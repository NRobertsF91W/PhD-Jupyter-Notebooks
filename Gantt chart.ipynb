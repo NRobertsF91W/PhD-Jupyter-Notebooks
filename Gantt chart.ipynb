{
 "cells": [
  {
   "cell_type": "code",
   "execution_count": 91,
   "metadata": {},
   "outputs": [],
   "source": [
    "import pandas as pd\n",
    "import matplotlib.pyplot as plt\n",
    "import numpy as np\n",
    "import matplotlib\n",
    "font = {'family' : 'Arial',\n",
    "        'weight' : 'normal',\n",
    "        'size'   : 18}\n",
    "\n",
    "matplotlib.rc('font', **font)"
   ]
  },
  {
   "cell_type": "code",
   "execution_count": 92,
   "metadata": {},
   "outputs": [],
   "source": [
    "df = pd.read_excel('../GlobalinkPlan.xlsx')\n",
    "df.iloc[0,0] = 'Verify bidirectional conversion'\n",
    "df.iloc[1,0] = 'Investigate fluorescence noise'\n",
    "df.iloc[2,0] = 'Build entangled photon source'"
   ]
  },
  {
   "cell_type": "code",
   "execution_count": 93,
   "metadata": {},
   "outputs": [
    {
     "data": {
      "text/html": [
       "<div>\n",
       "<style scoped>\n",
       "    .dataframe tbody tr th:only-of-type {\n",
       "        vertical-align: middle;\n",
       "    }\n",
       "\n",
       "    .dataframe tbody tr th {\n",
       "        vertical-align: top;\n",
       "    }\n",
       "\n",
       "    .dataframe thead th {\n",
       "        text-align: right;\n",
       "    }\n",
       "</style>\n",
       "<table border=\"1\" class=\"dataframe\">\n",
       "  <thead>\n",
       "    <tr style=\"text-align: right;\">\n",
       "      <th></th>\n",
       "      <th>Task</th>\n",
       "      <th>Start</th>\n",
       "      <th>End</th>\n",
       "      <th>start_num</th>\n",
       "      <th>end_num</th>\n",
       "      <th>days_start_to_end</th>\n",
       "      <th>color</th>\n",
       "    </tr>\n",
       "  </thead>\n",
       "  <tbody>\n",
       "    <tr>\n",
       "      <th>0</th>\n",
       "      <td>Verify bidirectional conversion</td>\n",
       "      <td>2022-09-19</td>\n",
       "      <td>2022-10-21</td>\n",
       "      <td>0</td>\n",
       "      <td>32</td>\n",
       "      <td>32</td>\n",
       "      <td>royalblue</td>\n",
       "    </tr>\n",
       "    <tr>\n",
       "      <th>1</th>\n",
       "      <td>Investigate fluorescence noise</td>\n",
       "      <td>2022-10-21</td>\n",
       "      <td>2022-11-04</td>\n",
       "      <td>32</td>\n",
       "      <td>46</td>\n",
       "      <td>14</td>\n",
       "      <td>royalblue</td>\n",
       "    </tr>\n",
       "    <tr>\n",
       "      <th>2</th>\n",
       "      <td>Build entangled photon source</td>\n",
       "      <td>2022-11-04</td>\n",
       "      <td>2022-12-20</td>\n",
       "      <td>46</td>\n",
       "      <td>92</td>\n",
       "      <td>46</td>\n",
       "      <td>royalblue</td>\n",
       "    </tr>\n",
       "  </tbody>\n",
       "</table>\n",
       "</div>"
      ],
      "text/plain": [
       "                              Task      Start        End  start_num  end_num  \\\n",
       "0  Verify bidirectional conversion 2022-09-19 2022-10-21          0       32   \n",
       "1   Investigate fluorescence noise 2022-10-21 2022-11-04         32       46   \n",
       "2    Build entangled photon source 2022-11-04 2022-12-20         46       92   \n",
       "\n",
       "   days_start_to_end      color  \n",
       "0                 32  royalblue  \n",
       "1                 14  royalblue  \n",
       "2                 46  royalblue  "
      ]
     },
     "execution_count": 93,
     "metadata": {},
     "output_type": "execute_result"
    }
   ],
   "source": [
    "start_date = df.Start.min()\n",
    "\n",
    "#days from project start to task\n",
    "df['start_num'] = (df.Start-start_date).dt.days\n",
    "\n",
    "#days from proj start to end of task\n",
    "df['end_num'] = (df.End - start_date).dt.days\n",
    "\n",
    "# days between start and end of each tast \n",
    "df['days_start_to_end'] = df.end_num - df.start_num\n",
    "\n",
    "df['color'] = ['royalblue', 'royalblue', 'royalblue']\n",
    "df.Task \n",
    "df"
   ]
  },
  {
   "cell_type": "code",
   "execution_count": 94,
   "metadata": {},
   "outputs": [
    {
     "data": {
      "image/png": "[encoded data removed]",
      "text/plain": [
       "<Figure size 680.315x141.732 with 1 Axes>"
      ]
     },
     "metadata": {
      "needs_background": "light"
     },
     "output_type": "display_data"
    }
   ],
   "source": [
    "cm = 1/2.54\n",
    "fig, ax = plt.subplots(1, figsize=(24*cm, 5*cm))\n",
    "\n",
    "ax.barh(df.Task, df.days_start_to_end, left = df.start_num, color=df.color)\n",
    "\n",
    "xticks=np.arange(0, df.end_num.max()+1, 7)\n",
    "xticks_labels = pd.date_range(start_date, end=df.End.max()).strftime(\"%d/%m\")\n",
    "xticks_minor = np.arange(0, df.end_num.max()+1,1)\n",
    "\n",
    "ax.set_xticks(xticks)\n",
    "ax.set_xticks(xticks_minor, minor=True)\n",
    "ax.set_xticklabels(xticks_labels[::7], fontsize=12)\n",
    "ax.invert_yaxis()\n",
    "\n",
    "ax.spines['left'].set_visible(False)\n",
    "ax.spines['right'].set_visible(False)\n",
    "ax.spines['top'].set_visible(False)\n",
    "ax.spines['bottom'].set_visible(True)\n",
    "ax.tick_params(axis='y', length=0)\n",
    "plt.show()"
   ]
  },
  {
   "cell_type": "code",
   "execution_count": null,
   "metadata": {},
   "outputs": [],
   "source": []
  }
 ],
 "metadata": {
  "interpreter": {
   "hash": "6fb52588c09c920220fae45d02f8a058c937e0ea8f0d37904520aff4618144bf"
  },
  "kernelspec": {
   "display_name": "Python 3.8.3 ('base')",
   "language": "python",
   "name": "python3"
  },
  "language_info": {
   "codemirror_mode": {
    "name": "ipython",
    "version": 3
   },
   "file_extension": ".py",
   "mimetype": "text/x-python",
   "name": "python",
   "nbconvert_exporter": "python",
   "pygments_lexer": "ipython3",
   "version": "3.8.3"
  },
  "orig_nbformat": 4
 },
 "nbformat": 4,
 "nbformat_minor": 2
}
