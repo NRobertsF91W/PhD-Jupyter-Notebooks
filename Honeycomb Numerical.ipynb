{
 "cells": [
  {
   "cell_type": "code",
   "execution_count": 71,
   "metadata": {},
   "outputs": [
    {
     "name": "stdout",
     "output_type": "stream",
     "text": [
      "Warning: Cannot change to a different GUI toolkit: widget. Using qt instead.\n"
     ]
    }
   ],
   "source": [
    "%matplotlib widget\n",
    "import numpy as np\n",
    "import matplotlib.pyplot as plt\n",
    "from matplotlib import cm\n",
    "from matplotlib.ticker import LinearLocator\n",
    "from mpl_toolkits.mplot3d import Axes3D"
   ]
  },
  {
   "cell_type": "markdown",
   "metadata": {},
   "source": [
    "## Considering the infinite case\n",
    "We get a Hamiltonian of the form \n",
    "$ \\hat{H} = -t \\sum_\\mathbf{\\delta} \\sum_{\\mathbf{k}} (e^{-i \\mathbf{k}\\cdot \\mathbf{\\delta}}\\hat{a}^\\dagger_\\mathbf{k} \\hat{b}_{\\mathbf{k}} + H.c)$\n",
    "\n",
    "$ \\hat{H} = \\sum_{\\mathbf{k}} \\mathbf{\\Psi}^\\dagger \\mathbf{h(k)} \\Psi$ \\, where $ \\Psi = \\begin{pmatrix}  \\hat{a_k}\\\\\\hat{b_k}    \\end{pmatrix}$ , $ \\mathbf{h(k)} = -t\\begin{bmatrix} 0 & \\Delta_{k}\\\\ \\Delta_{k}^\\dagger &0    \\end{bmatrix}$ ,\n",
    "$ \\Delta_{k} = \\sum_{\\delta} e^{i\\mathbf{k}\\cdot \\delta}$"
   ]
  },
  {
   "cell_type": "code",
   "execution_count": 72,
   "metadata": {},
   "outputs": [],
   "source": [
    "def Delta_k_func(k_vec, a_mag):\n",
    "    \"\"\" Function to build off-diagonal components of h(k) \"\"\"\n",
    "    delta_1 = a_mag*0.5*np.array([1, np.sqrt(3)])\n",
    "    delta_2 = a_mag*0.5*np.array([1,-np.sqrt(3)])\n",
    "    delta_3 = -a_mag*np.array([1,0])\n",
    "    delta_vec = np.vstack([delta_1, delta_2, delta_3])\n",
    "    \n",
    "    exponent_vec = np.matmul(delta_vec, k_vec)\n",
    "    Delta_k = np.sum(np.exp(1.0j*exponent_vec))\n",
    "    \n",
    "    return Delta_k\n",
    "\n",
    "def build_h_matrix(k_x, k_y, a_mag, coupling):\n",
    "    \"\"\" Building h(k) from Delta ks \"\"\"\n",
    "    k_vec = np.array([k_x, k_y])\n",
    "    delta_k_from_func = Delta_k_func(k_vec, a_mag)\n",
    "    delta_k_transpose = np.conjugate(delta_k_from_func)\n",
    "    h_of_k = -coupling*np.array([[0, delta_k_from_func],[delta_k_transpose, 0]])\n",
    "\n",
    "    return h_of_k\n",
    "\n",
    "def find_eigvals(k_x, k_y, a_mag, coupling):\n",
    "    \"\"\"\"\"\"\n",
    "    eig_band_1 = np.zeros((len(k_x), len(k_y)))\n",
    "    eig_band_2 = np.zeros((len(k_x), len(k_y)))\n",
    "\n",
    "    for i in range(len(k_x)):\n",
    "            for j in range(len(k_y)):\n",
    "                h_matrix = build_h_matrix(kx[i], ky[j], a_mag, coupling)\n",
    "\n",
    "                eigvals, eigvecs = np.linalg.eigh(h_matrix)\n",
    "\n",
    "                eig_band_1[i,j] = eigvals[0]\n",
    "                eig_band_2[i,j] = eigvals[1]\n",
    "                \n",
    "    return eig_band_1, eig_band_2\n"
   ]
  },
  {
   "cell_type": "code",
   "execution_count": 76,
   "metadata": {},
   "outputs": [],
   "source": [
    "a_mag = 1\n",
    "coupling = 0.5\n",
    "mag_K = 4*np.pi/(3*np.sqrt(3)*a_mag)\n",
    "\n",
    "kx = np.arange(-mag_K, mag_K, 0.05)\n",
    "ky = np.arange(-mag_K, mag_K, 0.05)\n",
    "kxv, kyv = np.meshgrid(kx, ky)\n",
    "\n",
    "band_1, band_2 = find_eigvals(kx, ky, a_mag, coupling)\n",
    "\n",
    "fig_3d = plt.figure(figsize=(10,10))\n",
    "ax_3d = fig_3d.add_subplot(111, projection='3d')\n",
    "\n",
    "surf_1 = ax_3d.plot_surface(kxv, kyv, band_1, cmap=cm.coolwarm,\n",
    "                       linewidth=0, antialiased=False,rstride=1, cstride=1)\n",
    "surf_2 = ax_3d.plot_surface(kxv, kyv, band_2, cmap=cm.coolwarm,\n",
    "                         linewidth=0, antialiased=False, rstride=1, cstride=1)\n",
    "\n",
    "hexagon_coord_x = np.array([2*np.pi/(3*a_mag), 0, -2*np.pi/(3*a_mag),\n",
    "                            -2*np.pi/(3*a_mag), 0, 2*np.pi/(3*a_mag),2*np.pi/(3*a_mag)])\n",
    "hexagon_coord_y = np.array([2*np.pi/(3*np.sqrt(3)*a_mag), mag_K,\n",
    "                            2*np.pi/(3*np.sqrt(3)*a_mag), -2*np.pi/(3*np.sqrt(3)*a_mag),\n",
    "                             -mag_K, -2*np.pi/(3*np.sqrt(3)*a_mag), 2*np.pi/(3*np.sqrt(3)*a_mag) ])\n",
    "\n",
    "hexagon = ax_3d.plot(hexagon_coord_x, hexagon_coord_y, np.zeros(len(hexagon_coord_x)),linestyle='--', color='g')\n",
    "\n",
    "plt.show()\n",
    "\n"
   ]
  },
  {
   "cell_type": "code",
   "execution_count": null,
   "metadata": {},
   "outputs": [],
   "source": []
  },
  {
   "cell_type": "code",
   "execution_count": null,
   "metadata": {},
   "outputs": [],
   "source": []
  }
 ],
 "metadata": {
  "interpreter": {
   "hash": "3aa2f3b380d21c7e47da1a909f8404d970ad19810a9206ea75fc9021b8e44bc0"
  },
  "kernelspec": {
   "display_name": "Python 3.7.9 64-bit (windows store)",
   "language": "python",
   "name": "python3"
  },
  "language_info": {
   "codemirror_mode": {
    "name": "ipython",
    "version": 3
   },
   "file_extension": ".py",
   "mimetype": "text/x-python",
   "name": "python",
   "nbconvert_exporter": "python",
   "pygments_lexer": "ipython3",
   "version": "3.8.3"
  },
  "orig_nbformat": 4
 },
 "nbformat": 4,
 "nbformat_minor": 2
}
