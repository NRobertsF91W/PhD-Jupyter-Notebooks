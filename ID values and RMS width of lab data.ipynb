{
 "cells": [
  {
   "cell_type": "code",
   "execution_count": 1,
   "metadata": {},
   "outputs": [],
   "source": [
    "import numpy as np\n",
    "import matplotlib.pyplot as plt\n",
    "import pandas as pd\n",
    "import matplotlib\n",
    "import pylab\n",
    "from scipy.optimize import curve_fit\n",
    "color_theme = ['#E3170A','#A9E5BB','#FCF6B1','#F7B32B','#2D1E2F']\n",
    "\n",
    "params = {'legend.fontsize': 9,#'x-large',\n",
    "          'figure.figsize': (8, 8),\n",
    "         'axes.labelsize': 9,#'x-large',\n",
    "         'axes.titlesize':9,#'x-large',\n",
    "         'xtick.labelsize':9,#18,\n",
    "         'ytick.labelsize':9}#18}\n",
    "          \n",
    "pylab.rcParams.update(params)\n",
    "matplotlib.rcParams['font.family'] = ['sans-serif']\n",
    "matplotlib.rcParams['font.sans-serif']='Arial'"
   ]
  },
  {
   "attachments": {},
   "cell_type": "markdown",
   "metadata": {},
   "source": [
    "# Read in ID values that have been calculated using the TopoPCF lab analysis Notebook"
   ]
  },
  {
   "cell_type": "code",
   "execution_count": 2,
   "metadata": {},
   "outputs": [
    {
     "name": "stdout",
     "output_type": "stream",
     "text": [
      "[1.1065464  1.12585323 1.11543462 1.38257871 1.24938131 1.22143024\n",
      " 1.26985809 1.2096763  1.10687683 1.14872428 1.0083348  1.0460553\n",
      " 1.10457957 0.99675239 0.98288193]\n",
      "[0.05150124 0.03919482 0.03240002 0.02412177 0.13342341 0.03341282\n",
      " 0.1213384  0.06301352 0.03472205 0.04300514 0.03432745 0.02213977\n",
      " 0.01378103 0.1067405  0.06163552]\n",
      "[0.01701058 0.0214394  0.01993688 0.0344612  0.06273876 0.02012443\n",
      " 0.06205745 0.13901796 0.13193309 0.13747224 0.13510993 0.19614082\n",
      " 0.21218613 0.16189854 0.18290181]\n"
     ]
    }
   ],
   "source": [
    "set_1_df = pd.read_csv('../Fibre Design/Single Shot Data/16_02_23/23.7cm 16_02_23 ID values set 1.csv', skiprows=0)# orig label.csv', skiprows=0)\n",
    "set_1_df.set_index('Rotations', inplace=True)\n",
    "set_2_df = pd.read_csv('../Fibre Design/Single Shot Data/16_02_23/23.7cm 16_02_23 ID values set 2.csv', skiprows=0)# orig label.csv', skiprows=0)\n",
    "set_2_df.set_index('Rotations', inplace=True)\n",
    "set_3_df = pd.read_csv('../Fibre Design/Single Shot Data/16_02_23/23.7cm 16_02_23 ID values set 3.csv', skiprows=0)# orig label.csv', skiprows=0)\n",
    "set_3_df.set_index('Rotations', inplace=True)\n",
    "\n",
    "combined = (set_1_df.Id.to_numpy() + set_2_df.Id.to_numpy() + set_3_df.Id.to_numpy())/3\n",
    "combining = [set_1_df.Id.to_numpy(), set_2_df.Id.to_numpy(), set_3_df.Id.to_numpy()]\n",
    "\n",
    "combined_unweight = (np.abs(set_1_df.Unweighted.to_numpy()) + np.abs(set_2_df.Unweighted.to_numpy()) + np.abs(set_3_df.Unweighted.to_numpy()))/3\n",
    "# display(set_3_df)\n",
    "# display(combined_unweight)\n",
    "print(np.mean(combining,axis=0))\n",
    "print(np.std(combining,axis=0))\n",
    "print(combined_unweight)"
   ]
  },
  {
   "attachments": {},
   "cell_type": "markdown",
   "metadata": {},
   "source": [
    "## Read in spectra for RMS width calculation"
   ]
  },
  {
   "cell_type": "code",
   "execution_count": 3,
   "metadata": {},
   "outputs": [
    {
     "name": "stdout",
     "output_type": "stream",
     "text": [
      "00\n",
      "01\n",
      "02\n",
      "03\n",
      "04\n",
      "05\n",
      "06\n",
      "07\n",
      "08\n",
      "09\n",
      "10\n",
      "11\n",
      "12\n",
      "13\n",
      "14\n"
     ]
    }
   ],
   "source": [
    "spectra_location = '../Fibre Design/Single Shot Data/16_02_23/spectra/'\n",
    "wavelengths_list_of_list = []\n",
    "intensities_list_of_list = []\n",
    "labels = [\"%.2d\" % i for i in range(15)]\n",
    "for n in labels:\n",
    "    print(n)\n",
    "    spectra_n = pd.read_csv(spectra_location+'nath_16_02_{}.CSV'.format(n), skiprows=39, names=['Wavelength', 'Intensity'])\n",
    "    wavelengths_list_of_list.append(spectra_n.Wavelength.to_numpy())\n",
    "    intensities_list_of_list.append(spectra_n.Intensity.to_numpy())"
   ]
  },
  {
   "cell_type": "code",
   "execution_count": 4,
   "metadata": {},
   "outputs": [],
   "source": [
    "def rms_width(datax, datay):\n",
    "\n",
    "    norm = datay / np.sum(datay)\n",
    "    meanx = np.sum(np.multiply(datax, norm))\n",
    "    xzero = datax - meanx\n",
    "    width = np.sqrt(np.sum(np.multiply(xzero**2, norm)))\n",
    "\n",
    "    return width"
   ]
  },
  {
   "cell_type": "code",
   "execution_count": 5,
   "metadata": {},
   "outputs": [
    {
     "name": "stdout",
     "output_type": "stream",
     "text": [
      "[30.32722657 30.00168672 29.9963717  29.5193855  29.25317471 27.56402541\n",
      " 26.3632313  25.70717689 25.66729535 26.17953547 24.83534596 23.5713084\n",
      " 22.23001754 21.25719176 20.0212517 ]\n"
     ]
    }
   ],
   "source": [
    "rms_list = np.zeros(15)\n",
    "for i in range(15):\n",
    "    rms_list[i] = rms_width(wavelengths_list_of_list[i], intensities_list_of_list[i])\n",
    "\n",
    "print(rms_list)"
   ]
  },
  {
   "cell_type": "code",
   "execution_count": 8,
   "metadata": {},
   "outputs": [
    {
     "data": {
      "image/png": "[encoded data removed]",
      "text/plain": [
       "<Figure size 155.906x85.0394 with 1 Axes>"
      ]
     },
     "metadata": {
      "needs_background": "light"
     },
     "output_type": "display_data"
    },
    {
     "data": {
      "image/png": "[encoded data removed]",
      "text/plain": [
       "<Figure size 170.079x141.732 with 1 Axes>"
      ]
     },
     "metadata": {
      "needs_background": "light"
     },
     "output_type": "display_data"
    }
   ],
   "source": [
    "cm = 1/2.54\n",
    "fig_spectra = plt.figure(figsize=(5.5*cm,3*cm))\n",
    "fig_rms = plt.figure(figsize=(6*cm,5*cm))\n",
    "ax_spectra = fig_spectra.add_subplot(111)\n",
    "ax_rms = fig_rms.add_subplot(111)\n",
    "\n",
    "ax_spectra.plot(wavelengths_list_of_list[-1], intensities_list_of_list[-1]/np.sum(intensities_list_of_list[-1]), color=color_theme[0])\n",
    "ax_spectra.plot(wavelengths_list_of_list[0], intensities_list_of_list[0]/np.sum(intensities_list_of_list[0]), color=color_theme[4])\n",
    "\n",
    "norm = intensities_list_of_list[-1]/np.sum(intensities_list_of_list[-1])\n",
    "meanx = np.sum(np.multiply(wavelengths_list_of_list[-1], norm))\n",
    "\n",
    "step_x = np.array([wavelengths_list_of_list[-1][0], meanx-rms_list[-1]/2, \n",
    "                   meanx+rms_list[-1]/2, wavelengths_list_of_list[-1][-1]])\n",
    "step_y = np.array([0,0, 1/rms_list[-1],0])\n",
    "\n",
    "norm_0 = intensities_list_of_list[0]/np.sum(intensities_list_of_list[0])\n",
    "meanx_0 = np.sum(np.multiply(wavelengths_list_of_list[0], norm_0))\n",
    "step_x_0 = np.array([wavelengths_list_of_list[0][0], meanx_0 - rms_list[0]/2, \n",
    "                   meanx_0 + rms_list[0]/2, wavelengths_list_of_list[0][-1]])\n",
    "step_y_0 = np.array([0, 0,1/rms_list[0], 0])\n",
    "\n",
    "ax_rms.step(step_x, step_y, color=color_theme[0])\n",
    "ax_rms.step(step_x_0, step_y_0, color=color_theme[4])\n",
    "ax_rms.set_xlim(550,750)\n",
    "ax_spectra.set_xlim(550,750)\n",
    "ax_spectra.set_xlabel('Wavelength (nm)')\n",
    "ax_spectra.set_ylabel('Intensity')\n",
    "ax_rms.set_xlabel('Wavelength (nm)')\n",
    "ax_rms.set_ylabel('Intensity')\n",
    "ax_spectra.set_ylim(0,0.01)\n",
    "ax_spectra.ticklabel_format(style='sci', axis='y', scilimits=(0,0))\n",
    "fig_spectra.savefig('intensity spectra comparison osa small.svg', dpi=300)\n",
    "\n",
    "plt.show()"
   ]
  },
  {
   "cell_type": "code",
   "execution_count": 7,
   "metadata": {},
   "outputs": [
    {
     "data": {
      "image/png": "[encoded data removed]",
      "text/plain": [
       "<Figure size 240.945x226.772 with 1 Axes>"
      ]
     },
     "metadata": {
      "needs_background": "light"
     },
     "output_type": "display_data"
    }
   ],
   "source": [
    "fig_id_quick = plt.figure(figsize=(8.5*cm,8*cm))\n",
    "# ax_id_quick = fig_id_quick.add_subplot(121)\n",
    "ax_id_rms = fig_id_quick.add_subplot(111)\n",
    "# ax_id_quick.scatter(np.arange(1,16), combined, color='black', marker='x' )\n",
    "# ax_id_quick.errorbar(np.arange(1,16), combined, yerr=combined_unweight, fmt='none', ecolor='black', capsize=3)\n",
    "# ax_id_quick.scatter(np.arange(1,16), set_2_df.Id, color='black', marker='x' )\n",
    "# ax_id_quick.set_ylim(0,1.5)\n",
    "# ax_id_rms.scatter(rms_list, np.mean(combining, axis=0)- combined_unweight)\n",
    "# ax_id_rms.scatter(rms_list, np.mean(combining, axis=0)+ combined_unweight)\n",
    "poly_order = 1\n",
    "poly_fit_top = np.poly1d(np.polyfit(rms_list, np.mean(combining,axis=0)+3*np.abs(combined_unweight), poly_order))\n",
    "poly_fit_bot = np.poly1d(np.polyfit(rms_list, np.mean(combining,axis=0)-3*np.abs(combined_unweight), poly_order))\n",
    "\n",
    "ax_id_rms.scatter(rms_list, np.mean(combining,axis=0), color='black', marker='x', label='Experimental Measurements')\n",
    "ax_id_rms.errorbar(rms_list, np.mean(combining,axis=0), yerr=np.std(combining, axis=0), fmt='none', ecolor='black', capsize=3)\n",
    "# ax_id_rms.fill_between(rms_list,np.mean(combining,axis=0)-np.abs(combined_unweight), np.mean(combining,axis=0)+np.abs(combined_unweight), alpha=0.45, color=color_theme[1], label='Unweighted Induced Uncertainty')\n",
    "ax_id_rms.fill_between(rms_list,poly_fit_bot(rms_list), poly_fit_top(rms_list), alpha=0.45, color=color_theme[1], label='Unweighted Induced Uncertainty')\n",
    "ax_id_rms.set_ylabel('Weighted Intensity Difference')\n",
    "ax_id_rms.set_xlabel('Spectrum RMS Width (nm)')\n",
    "# ax_id_rms.invert_xaxis()\n",
    "# ax_id_rms.scatter(rms_list, set_2_df.Id, color='black', marker='x' )\n",
    "# ax_id_rms.errorbar(rms_list, set_2_df.Id, yerr=set_2_df.Unweighted, fmt='none', ecolor='black', capsize=3)\n",
    "# ax_id_rms.scatter(rms_list, set_3_df.Id, color='black', marker='x' )\n",
    "# ax_id_rms.errorbar(rms_list, set_3_df.Id, yerr=set_3_df.Unweighted, fmt='none', ecolor='black', capsize=3)\n",
    "ax_id_rms.axhline(1.0)\n",
    "ax_id_rms.set_ylim(0,4.0)\n",
    "fig_id_quick.legend()\n",
    "fig_id_quick.savefig('id against RMS width n=0 labelling small.svg')"
   ]
  },
  {
   "cell_type": "code",
   "execution_count": 19,
   "metadata": {},
   "outputs": [
    {
     "name": "stdout",
     "output_type": "stream",
     "text": [
      "[1.15757814 1.19017143 1.17524525 1.27919512 1.06116503 1.16105695\n",
      " 1.08368576 0.79262243 0.71107756 0.73630757 0.603005   0.45763285\n",
      " 0.46802117 0.51105677 0.43417649]\n",
      "[0.01701058 0.0214394  0.01993688 0.0344612  0.06273876 0.02012443\n",
      " 0.06205745 0.13901796 0.13193309 0.13747224 0.13510993 0.19614082\n",
      " 0.21218613 0.16189854 0.18290181]\n",
      "[1.14056756 1.16873203 1.15530838 1.24473392 0.99842628 1.14093252\n",
      " 1.02162831 0.65360448 0.57914448 0.59883533 0.46789507 0.26149203\n",
      " 0.25583504 0.34915822 0.25127468]\n"
     ]
    }
   ],
   "source": [
    "print(np.mean(combining, axis=0))\n",
    "print(combined_unweight)\n",
    "print(np.mean(combining, axis=0)- combined_unweight)"
   ]
  },
  {
   "cell_type": "code",
   "execution_count": 75,
   "metadata": {},
   "outputs": [
    {
     "name": "stdout",
     "output_type": "stream",
     "text": [
      "(100,)\n"
     ]
    },
    {
     "data": {
      "image/png": "[encoded data removed]",
      "text/plain": [
       "<Figure size 576x576 with 1 Axes>"
      ]
     },
     "metadata": {
      "needs_background": "light"
     },
     "output_type": "display_data"
    }
   ],
   "source": [
    "xtest = np.arange(100)\n",
    "ytest = xtest**2 + 5000*np.random.rand(100)\n",
    "mov_avg = np.convolve(ytest,np.ones(10)/10, mode='same')\n",
    "poly_fit = np.polyfit(xtest, ytest, 2)\n",
    "plt.scatter(xtest,ytest)\n",
    "plt.scatter(xtest, mov_avg)\n",
    "plt.plot(xtest, poly_fit[2]+poly_fit[1]*xtest + poly_fit[0]*xtest**2)\n",
    "print(np.shape(mov_avg))"
   ]
  },
  {
   "attachments": {},
   "cell_type": "markdown",
   "metadata": {},
   "source": [
    "First set of twist data"
   ]
  },
  {
   "cell_type": "code",
   "execution_count": 4,
   "metadata": {},
   "outputs": [
    {
     "data": {
      "image/png": "[encoded data removed]",
      "text/plain": [
       "<Figure size 240.945x127.559 with 1 Axes>"
      ]
     },
     "metadata": {
      "needs_background": "light"
     },
     "output_type": "display_data"
    }
   ],
   "source": [
    "cm = 1/2.54\n",
    "fig_twist_data = plt.figure(figsize=(8.5*cm,4.5*cm))\n",
    "ax_twist_data = fig_twist_data.add_subplot(111)\n",
    "\n",
    "id_twist_vals = np.array([0.89, 0.93, 0.95, 0.96, 1.05, 1.03, 1.00, 1.00, 0.97,\n",
    "                          0.83, 0.63, 0.62, 0.52, 0.68, 0.39, 0.26, 0.49, 0.30,\n",
    "                          0.49, 0.33, 0.31, 0.06, 0.19, 0.28, 0.46, 0.58, 0.54,\n",
    "                          0.53, 0.53, 0.41])\n",
    "unweighted_id_data = np.array([0.02, 0.13, 0.15, 0.11, 0.01, 0.08, 0.18, 0.25,\n",
    "                               0.28, 0.23, 0.11, 0.10, 0.03, 0.01, 0.13, 0.20,\n",
    "                               0.03, 0.14, 0.02, 0.06, 0.06, 0.12, 0.07, 0.01,\n",
    "                               0.00, 0.10, 0.17, 0.17, 0.17, 0.17])\n",
    "twist = 2*np.pi*np.arange(0,150, 5)/(360*0.33) \n",
    "\n",
    "poly_fit_id_twist = np.poly1d(np.polyfit(twist, id_twist_vals, 1))\n",
    "\n",
    "ax_twist_data.scatter(twist, id_twist_vals, marker='x', color='red')\n",
    "# ax_twist_data.plot(np.linspace(0, 5*np.pi/2, 100), poly_fit_id_twist(np.linspace(0, 5*np.pi/2, 100)))\n",
    "ax_twist_data.errorbar(twist, id_twist_vals, yerr=unweighted_id_data, fmt='none', capsize=2, color='black', barsabove=False)\n",
    "# ax_twist_data.fill_between(twist, id_twist_vals+unweighted_id_data, id_twist_vals-unweighted_id_data, alpha=0.3)\n",
    "ax_twist_data.set_ylabel('$2I_{d}$')\n",
    "ax_twist_data.set_xlabel('Twist Rate (rad/m)')\n",
    "ax_twist_data.set_xticks([0, np.pi/2, np.pi, 3*np.pi/2, 2*np.pi, 5*np.pi/2])\n",
    "ax_twist_data.set_xticklabels(['0', '$\\pi /2$', '$\\pi$', '$3\\pi/2$', '$2\\pi$', '$5\\pi/2$'])\n",
    "# ax_twist_data.set_xlim(0, *np.pi)\n",
    "\n",
    "fig_twist_data.savefig('expt id as a function of twist small.svg', dpi=300)\n",
    "plt.show()"
   ]
  },
  {
   "attachments": {},
   "cell_type": "markdown",
   "metadata": {},
   "source": [
    "second twist set - greater twist - less points\n"
   ]
  },
  {
   "cell_type": "code",
   "execution_count": 5,
   "metadata": {},
   "outputs": [
    {
     "data": {
      "image/png": "[encoded data removed]",
      "text/plain": [
       "<Figure size 226.772x170.079 with 1 Axes>"
      ]
     },
     "metadata": {
      "needs_background": "light"
     },
     "output_type": "display_data"
    }
   ],
   "source": [
    "cm = 1/2.54\n",
    "fig_twist_data_2 = plt.figure(figsize=(8*cm,6*cm))\n",
    "ax_twist_data_2 = fig_twist_data_2.add_subplot(111)\n",
    "\n",
    "id_twist_vals_2 = np.array([0.99, 0.69, 0.62, 0.45,\n",
    "                            0.35, 0.59, 0.42, 0.37,\n",
    "                            0.30, 0.47, 0.30, 0.37,\n",
    "                             0.50, 0.51])\n",
    "unweighted_id_data_2 = np.array([0.03,0.00,0.03,0.13,\n",
    "                                 0.12,0.02,0.11,0.14,\n",
    "                                 0.05,0.00,0.07,0.14,\n",
    "                                 0.11,0.02])\n",
    "twist_2 = 2*np.pi*np.arange(0,420, 30)/(360*0.256) \n",
    "\n",
    "ax_twist_data_2.scatter(twist_2, id_twist_vals_2, marker='x', color='red')\n",
    "# ax_twist_data_2.errorbar(twist_2, id_twist_vals_2, yerr=unweighted_id_data_2, fmt='none', capsize=2, color='black', barsabove=False)\n",
    "\n",
    "ax_twist_data_2.scatter(twist, id_twist_vals, marker='x', color='blue')\n",
    "# ax_twist_data_2.errorbar(twist, id_twist_vals, yerr=unweighted_id_data, fmt='none', capsize=2, color='black', barsabove=False)\n",
    "# ax_twist_data.fill_between(twist, id_twist_vals+unweighted_id_data, id_twist_vals-unweighted_id_data, alpha=0.3)\n",
    "ax_twist_data_2.set_ylabel('Id')\n",
    "ax_twist_data_2.set_xlabel('Twist (rad/m)')\n",
    "\n",
    "plt.show()"
   ]
  },
  {
   "cell_type": "code",
   "execution_count": null,
   "metadata": {},
   "outputs": [],
   "source": []
  }
 ],
 "metadata": {
  "kernelspec": {
   "display_name": "base",
   "language": "python",
   "name": "python3"
  },
  "language_info": {
   "codemirror_mode": {
    "name": "ipython",
    "version": 3
   },
   "file_extension": ".py",
   "mimetype": "text/x-python",
   "name": "python",
   "nbconvert_exporter": "python",
   "pygments_lexer": "ipython3",
   "version": "3.8.3"
  },
  "orig_nbformat": 4,
  "vscode": {
   "interpreter": {
    "hash": "d0da897c7d7e05c7283e0a5b6e33f76c7884867bc804433a7972abce5117f3a1"
   }
  }
 },
 "nbformat": 4,
 "nbformat_minor": 2
}
