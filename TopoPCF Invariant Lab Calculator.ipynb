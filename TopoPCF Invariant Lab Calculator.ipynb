{
 "cells": [
  {
   "cell_type": "code",
   "execution_count": 1,
   "metadata": {},
   "outputs": [
    {
     "name": "stdout",
     "output_type": "stream",
     "text": [
      "Using matplotlib backend: <object object at 0x000002B3CF1E64E0>\n"
     ]
    }
   ],
   "source": [
    "%matplotlib\n",
    "import matplotlib\n",
    "import numpy as np\n",
    "import matplotlib.pyplot as plt\n",
    "\n",
    "from matplotlib.ticker import (MultipleLocator, AutoMinorLocator)\n",
    "import imageio\n",
    "import os"
   ]
  },
  {
   "cell_type": "markdown",
   "metadata": {},
   "source": [
    "## Define core size and useful funcs"
   ]
  },
  {
   "cell_type": "code",
   "execution_count": 2,
   "metadata": {
    "scrolled": true
   },
   "outputs": [
    {
     "name": "stdout",
     "output_type": "stream",
     "text": [
      "18\n"
     ]
    }
   ],
   "source": [
    "core_size = 18\n",
    "print(core_size)"
   ]
  },
  {
   "cell_type": "code",
   "execution_count": 3,
   "metadata": {},
   "outputs": [],
   "source": [
    "def rebin(arr, new_shape):\n",
    "    shape = (new_shape[0], arr.shape[0] // new_shape[0],\n",
    "             new_shape[1], arr.shape[1] // new_shape[1])\n",
    "    return arr.reshape(shape).mean(-1).mean(1)\n",
    "\n",
    "def plot_with_cores(core_locs,chosen_pic):\n",
    "    fig2 = plt.figure(figsize=(24,13.5))\n",
    "    ax2 = fig2.add_subplot(111)\n",
    "    ax2.imshow(chosen_pic, cmap='Greys')\n",
    "\n",
    "    for i in range(len(core_locs)):\n",
    "        if i%2 == 0:\n",
    "            col = 'black'\n",
    "        else:\n",
    "            col = 'black'\n",
    "        patch_to_add = plt.Circle(core_locs[i], core_size, color=col, fill=False, linewidth=3.0,linestyle='--')\n",
    "        ax2.add_patch(patch_to_add)\n",
    "    #plt.axis('off')\n",
    "    #ax2.set_axis_off()\n",
    "    ax2.xaxis.set_major_locator(MultipleLocator(10))\n",
    "    ax2.xaxis.set_minor_locator(MultipleLocator(5))\n",
    "    ax2.yaxis.set_major_locator(MultipleLocator(10))\n",
    "    ax2.yaxis.set_minor_locator(MultipleLocator(5))\n",
    "    plt.grid(which='both')\n",
    "    plt.show()\n",
    "    return\n",
    "\n",
    "# Can plot meshgrid to ensure each RGB component is not saturated\n",
    "def RGB_plotter(chosen_pic):\n",
    "    fig_prop = plt.figure(figsize=(12,10))\n",
    "    ax_prop = plt.axes(projection='3d')\n",
    "\n",
    "    x = np.arange(1080)\n",
    "    y = np.arange(720)\n",
    "    X, Y = np.meshgrid(x, y)\n",
    "    ax_prop.plot_wireframe(X,Y,chosen_pic[:,:,0], color='blue')\n",
    "    ax_prop.plot_wireframe(X,Y,chosen_pic[:,:,1],color='green')\n",
    "    ax_prop.plot_wireframe(X,Y,chosen_pic[:,:,2],color='red')\n",
    "\n",
    "    plt.show()\n",
    "    return\n",
    "\n",
    "# This function sums up the grayscale values in each core\n",
    "# Giving an overall intensity value\n",
    "def sum_intensity_in_cores(core_list,chosen_pic):\n",
    "    \n",
    "    copy_pic = np.copy(chosen_pic)\n",
    "    x , y = np.ogrid[:copy_pic.shape[0] , :copy_pic.shape[1]] \n",
    "\n",
    "    core_sum_array = np.zeros(12)\n",
    "\n",
    "    for core in range(12):\n",
    "        dist_from_core_center = np.sqrt((x-core_list[core][1])**2 + (y-core_list[core][0])**2)\n",
    "        circ_radius= core_size\n",
    "\n",
    "        selection = dist_from_core_center < circ_radius\n",
    "        core_sum_array[core] = sum(copy_pic[selection])\n",
    "        copy_pic[selection] = 0.0\n",
    "    return core_sum_array\n",
    "\n",
    "# for image in pic_list_1:\n",
    "#     RGB_plotter(image)\n",
    "# RGB_plotter(bulk_pic)"
   ]
  },
  {
   "cell_type": "markdown",
   "metadata": {},
   "source": [
    "## Label folder where images are"
   ]
  },
  {
   "cell_type": "code",
   "execution_count": 4,
   "metadata": {},
   "outputs": [
    {
     "ename": "NameError",
     "evalue": "name 'core_order' is not defined",
     "output_type": "error",
     "traceback": [
      "\u001b[1;31m---------------------------------------------------------------------------\u001b[0m",
      "\u001b[1;31mNameError\u001b[0m                                 Traceback (most recent call last)",
      "\u001b[1;32m<ipython-input-4-b9b90a70c81b>\u001b[0m in \u001b[0;36m<module>\u001b[1;34m\u001b[0m\n\u001b[0;32m      3\u001b[0m \u001b[0mfolder\u001b[0m \u001b[1;33m=\u001b[0m \u001b[1;34m'Fibre Design/TPCF 4.2 160821/Characterisation/Invariant calculation/11_02_22_17cm/'\u001b[0m\u001b[1;33m\u001b[0m\u001b[1;33m\u001b[0m\u001b[0m\n\u001b[0;32m      4\u001b[0m \u001b[0mcore_list\u001b[0m \u001b[1;33m=\u001b[0m \u001b[1;33m[\u001b[0m\u001b[1;33m]\u001b[0m\u001b[1;33m\u001b[0m\u001b[1;33m\u001b[0m\u001b[0m\n\u001b[1;32m----> 5\u001b[1;33m \u001b[0mcore_order\u001b[0m\u001b[1;33m\u001b[0m\u001b[1;33m\u001b[0m\u001b[0m\n\u001b[0m\u001b[0;32m      6\u001b[0m \u001b[1;32mfor\u001b[0m \u001b[0mfilename\u001b[0m \u001b[1;32min\u001b[0m \u001b[0mos\u001b[0m\u001b[1;33m.\u001b[0m\u001b[0mlistdir\u001b[0m\u001b[1;33m(\u001b[0m\u001b[0mfolder\u001b[0m\u001b[1;33m)\u001b[0m\u001b[1;33m:\u001b[0m\u001b[1;33m\u001b[0m\u001b[1;33m\u001b[0m\u001b[0m\n\u001b[0;32m      7\u001b[0m     \u001b[0mprint\u001b[0m\u001b[1;33m(\u001b[0m\u001b[0mfilename\u001b[0m\u001b[1;33m)\u001b[0m\u001b[1;33m\u001b[0m\u001b[1;33m\u001b[0m\u001b[0m\n",
      "\u001b[1;31mNameError\u001b[0m: name 'core_order' is not defined"
     ]
    }
   ],
   "source": [
    "pic_list_1 = []\n",
    "\n",
    "folder = 'Fibre Design/TPCF 4.2 160821/Characterisation/Invariant calculation/11_02_22_17cm/'\n",
    "core_list = []\n",
    "core_order\n",
    "for filename in os.listdir(folder):\n",
    "    print(filename)\n",
    "    if filename[0] != '.':\n",
    "        img = imageio.imread(os.path.join(folder, filename), pilmode ='F')\n",
    "        pic_list_1.append(img)\n",
    "        core_list.append((filename))\n",
    "    \n",
    "core_list = core_list[1:-1]\n",
    "print(core_list)\n",
    "binned_pic_list_1 = []\n",
    "\n",
    "for pic in pic_list_1:\n",
    "    bin_once = rebin(pic,(np.shape(pic)[0]//2, np.shape(pic)[1]//2))\n",
    "    bin_twice = rebin(bin_once, (np.shape(bin_once)[0]//2, np.shape(bin_once)[1]//2))\n",
    "    binned_pic_list_1.append(bin_twice)\n",
    "\n",
    "binned_noise_pic = binned_pic_list_1[-1]\n",
    "binned_list_without_noise_1 = []\n",
    "\n",
    "for pic in binned_pic_list_1[1:-1]:\n",
    "    binned_list_without_noise_1.append(pic-binned_noise_pic)\n",
    "    \n"
   ]
  },
  {
   "cell_type": "markdown",
   "metadata": {},
   "source": [
    "## Find core locations"
   ]
  },
  {
   "cell_type": "code",
   "execution_count": 5,
   "metadata": {},
   "outputs": [],
   "source": [
    "def onclick(event):\n",
    "    pos.append([event.xdata,event.ydata])\n",
    "\n",
    "core_locs = []\n",
    "i = 0"
   ]
  },
  {
   "cell_type": "code",
   "execution_count": 6,
   "metadata": {},
   "outputs": [
    {
     "ename": "NameError",
     "evalue": "name 'binned_pic_list_1' is not defined",
     "output_type": "error",
     "traceback": [
      "\u001b[1;31m---------------------------------------------------------------------------\u001b[0m",
      "\u001b[1;31mNameError\u001b[0m                                 Traceback (most recent call last)",
      "\u001b[1;32m<ipython-input-6-b5d00a72e327>\u001b[0m in \u001b[0;36m<module>\u001b[1;34m\u001b[0m\n\u001b[0;32m      7\u001b[0m \u001b[0max1\u001b[0m \u001b[1;33m=\u001b[0m \u001b[0mfig1\u001b[0m\u001b[1;33m.\u001b[0m\u001b[0madd_subplot\u001b[0m\u001b[1;33m(\u001b[0m\u001b[1;36m111\u001b[0m\u001b[1;33m)\u001b[0m\u001b[1;33m\u001b[0m\u001b[1;33m\u001b[0m\u001b[0m\n\u001b[0;32m      8\u001b[0m \u001b[1;33m\u001b[0m\u001b[0m\n\u001b[1;32m----> 9\u001b[1;33m \u001b[0max1\u001b[0m\u001b[1;33m.\u001b[0m\u001b[0mimshow\u001b[0m\u001b[1;33m(\u001b[0m\u001b[0mbinned_pic_list_1\u001b[0m\u001b[1;33m[\u001b[0m\u001b[1;36m0\u001b[0m\u001b[1;33m]\u001b[0m\u001b[1;33m,\u001b[0m \u001b[0mcmap\u001b[0m\u001b[1;33m=\u001b[0m\u001b[1;34m'Reds'\u001b[0m\u001b[1;33m)\u001b[0m\u001b[1;33m\u001b[0m\u001b[1;33m\u001b[0m\u001b[0m\n\u001b[0m\u001b[0;32m     10\u001b[0m \u001b[0max1\u001b[0m\u001b[1;33m.\u001b[0m\u001b[0mxaxis\u001b[0m\u001b[1;33m.\u001b[0m\u001b[0mset_major_locator\u001b[0m\u001b[1;33m(\u001b[0m\u001b[0mMultipleLocator\u001b[0m\u001b[1;33m(\u001b[0m\u001b[1;36m10\u001b[0m\u001b[1;33m)\u001b[0m\u001b[1;33m)\u001b[0m\u001b[1;33m\u001b[0m\u001b[1;33m\u001b[0m\u001b[0m\n\u001b[0;32m     11\u001b[0m \u001b[0max1\u001b[0m\u001b[1;33m.\u001b[0m\u001b[0mxaxis\u001b[0m\u001b[1;33m.\u001b[0m\u001b[0mset_minor_locator\u001b[0m\u001b[1;33m(\u001b[0m\u001b[0mMultipleLocator\u001b[0m\u001b[1;33m(\u001b[0m\u001b[1;36m5\u001b[0m\u001b[1;33m)\u001b[0m\u001b[1;33m)\u001b[0m\u001b[1;33m\u001b[0m\u001b[1;33m\u001b[0m\u001b[0m\n",
      "\u001b[1;31mNameError\u001b[0m: name 'binned_pic_list_1' is not defined"
     ]
    },
    {
     "ename": "",
     "evalue": "",
     "output_type": "error",
     "traceback": [
      "\u001b[1;31mThe Kernel crashed while executing code in the the current cell or a previous cell. Please review the code in the cell(s) to identify a possible cause of the failure. Click <a href='https://aka.ms/vscodeJupyterKernelCrash'>here</a> for more info. View Jupyter <a href='command:jupyter.viewOutput'>log</a> for further details."
     ]
    }
   ],
   "source": [
    "# Now we want to display the binned pic with some sort of grid to select the centers of each core\n",
    "# Maybe this method will produce better pics\n",
    "\n",
    "#for i in range(NUM_OF_PICS):\n",
    "pos = []\n",
    "fig1 = plt.figure(figsize=(24,13.5))\n",
    "ax1 = fig1.add_subplot(111)\n",
    "\n",
    "ax1.imshow(binned_pic_list_1[0], cmap='Reds')\n",
    "ax1.xaxis.set_major_locator(MultipleLocator(10))\n",
    "ax1.xaxis.set_minor_locator(MultipleLocator(5))\n",
    "ax1.yaxis.set_major_locator(MultipleLocator(10))\n",
    "ax1.yaxis.set_minor_locator(MultipleLocator(5))\n",
    "#ax1.xaxis.set_major_formatter({x:.0f})\n",
    "plt.grid(which='both')\n",
    "#print(pic[308,505:530,2])\n",
    "# plt.savefig('first paper/Figures/real_images/inverted blue Core {:d}.png'.format(index))\n",
    "# plt.show()\n",
    "fig1.canvas.mpl_connect('button_press_event', onclick)\n",
    "fig1.show()"
   ]
  },
  {
   "cell_type": "code",
   "execution_count": 8,
   "metadata": {},
   "outputs": [
    {
     "name": "stdout",
     "output_type": "stream",
     "text": [
      "[[290, 188], [276, 150], [298, 119], [337, 127], [352, 161], [366, 200], [343, 231], [317, 261], [279, 255], [240, 250], [226, 212], [211, 174]]\n",
      "1\n"
     ]
    }
   ],
   "source": [
    "# core_locs = np.zeros(NUM_OF_PICS)\n",
    "if len([[int(i),int(j)] for i,j in pos]) == 12:\n",
    "    core_locs.append([[int(i),int(j)] for i,j in pos])\n",
    "#     core_locs[i] = [[int(i),int(j)] for i,j in pos]\n",
    "    print([[int(i),int(j)] for i,j in pos])\n",
    "i+=1\n",
    "print(i)"
   ]
  },
  {
   "cell_type": "code",
   "execution_count": null,
   "metadata": {},
   "outputs": [],
   "source": []
  },
  {
   "cell_type": "code",
   "execution_count": null,
   "metadata": {},
   "outputs": [],
   "source": [
    "# print(len(core_locs))\n",
    "# for j,image in enumerate(binned_list_without_noise_1):\n",
    "plot_with_cores(core_locs[0],binned_list_without_noise_1[0])\n"
   ]
  },
  {
   "cell_type": "code",
   "execution_count": 11,
   "metadata": {},
   "outputs": [
    {
     "name": "stdout",
     "output_type": "stream",
     "text": [
      "0\n"
     ]
    }
   ],
   "source": [
    "print(len(binned_list_without_noise_1))"
   ]
  },
  {
   "cell_type": "code",
   "execution_count": 9,
   "metadata": {},
   "outputs": [
    {
     "name": "stdout",
     "output_type": "stream",
     "text": [
      "[ 1.45812879 -0.05252357 -0.03730906 -0.04471363 -0.01947896 -0.033154\n",
      " -0.02326814 -0.03952152 -0.03759091 -0.04403735 -0.06410387 -0.06242778]\n",
      "[-0.00164488  0.08550204  0.03726409  0.09952957  0.05215711  0.07656875\n",
      "  0.04839629  0.05568451  0.09968835  0.26996434  0.12269347  0.05419637]\n",
      "[0.01040491 0.12609984 0.03441743 0.08179703 0.10306397 0.08765691\n",
      " 0.17852387 0.0698966  0.08807328 0.07658843 0.14228877 0.00118894]\n",
      "[0.00953899 0.01180495 0.01087315 0.02872241 0.01834125 0.10749324\n",
      " 0.01940334 0.08450874 0.03645787 0.05079243 0.01057254 0.61149111]\n",
      "[ 0.01303519  0.25183248  0.2041383   0.02771803  0.06945472  0.10004604\n",
      "  0.00881784  0.07941406  0.11387531  0.04229705  0.09882717 -0.00945618]\n",
      "[0.07841808 0.26905277 0.25943867 0.07501616 0.01842448 0.04654882\n",
      " 0.00986162 0.05133713 0.06820925 0.04572415 0.07730562 0.00066324]\n",
      "[ 0.00480144  0.08363186  0.17679681  0.23982488  0.15743476  0.03083918\n",
      "  0.02158254 -0.00175337  0.00941719  0.09883404  0.17930725 -0.00071659]\n",
      "[0.00264485 0.06193174 0.04519788 0.17433816 0.23038751 0.09063628\n",
      " 0.0630904  0.01247767 0.00546814 0.17549162 0.09842817 0.03990759]\n",
      "[0.00837359 0.10306703 0.06872991 0.04757699 0.02748882 0.15730428\n",
      " 0.18671501 0.10167341 0.13583567 0.02571934 0.00682245 0.13069351]\n",
      "[0.00700006 0.09274359 0.03060847 0.03395691 0.04890159 0.14178236\n",
      " 0.22794598 0.24541115 0.09540599 0.01720485 0.01255174 0.04648732]\n",
      "[0.01366993 0.00927884 0.04106806 0.05613175 0.10794663 0.10208638\n",
      " 0.12222795 0.24352858 0.09250662 0.05267414 0.10236143 0.0565197 ]\n",
      "[-0.00089044  0.00587462  0.03348318  0.16086957  0.10139116  0.04358419\n",
      "  0.10815651  0.02669711  0.20581945  0.13417491  0.14191859  0.03892116]\n"
     ]
    }
   ],
   "source": [
    "core_intensity_list = []\n",
    "# j = 0\n",
    "for j,image in enumerate(binned_list_without_noise_1):\n",
    "    intensity = sum_intensity_in_cores(core_locs[0],image)\n",
    "    normalised_intensity = intensity/np.sum(intensity)\n",
    "    print(normalised_intensity)\n",
    "    normalised_intensity[normalised_intensity < 0] = 0\n",
    "    core_intensity_list.append(normalised_intensity)\n",
    "\n"
   ]
  },
  {
   "cell_type": "code",
   "execution_count": 16,
   "metadata": {
    "scrolled": true
   },
   "outputs": [],
   "source": [
    "def calc_i_d_list(unit_cell_index, core_intensity_lists):\n",
    "    i_d_list = []\n",
    "    unweighted_list = []\n",
    "    for norm_vals in core_intensity_lists:\n",
    "        a_norm = norm_vals[::2]\n",
    "        b_norm = norm_vals[1::2]\n",
    "        diff_list = a_norm - b_norm\n",
    "        scaled_diff_list = diff_list*unit_cell_index\n",
    "\n",
    "        i_d = np.sum(scaled_diff_list)\n",
    "        unweighted_list.append(np.sum(diff_list))\n",
    "        i_d_list.append(i_d)\n",
    "        \n",
    "    return i_d_list, unweighted_list\n",
    "\n",
    "i_d_list, unweighted_id = calc_i_d_list(np.arange(1,7), core_intensity_list)"
   ]
  },
  {
   "cell_type": "code",
   "execution_count": 21,
   "metadata": {},
   "outputs": [
    {
     "name": "stdout",
     "output_type": "stream",
     "text": [
      "Core 1 I_d: 2.92\n",
      "Core 10 I_d: -1.51\n",
      "Core 11 I_d: 2.35\n",
      "Core 12 I_d: -8.49\n",
      "Core 2 I_d: 1.38\n",
      "Core 3 I_d: 1.00\n",
      "Core 4 I_d: 1.78\n",
      "Core 5 I_d: -0.39\n",
      "Core 6 I_d: -0.59\n",
      "Core 7 I_d: -0.51\n",
      "Core 8 I_d: -0.04\n",
      "Core 9 I_d: 2.43\n"
     ]
    }
   ],
   "source": [
    "for i in range(len(core_list)):\n",
    "    print(core_list[i][:-4]+' I_d: {:.2f}'.format(2*i_d_list[i]))"
   ]
  },
  {
   "cell_type": "code",
   "execution_count": 11,
   "metadata": {},
   "outputs": [
    {
     "name": "stdout",
     "output_type": "stream",
     "text": [
      "[array([1.45812879, 0.        , 0.        , 0.        , 0.        ,\n",
      "       0.        , 0.        , 0.        , 0.        , 0.        ,\n",
      "       0.        , 0.        ]), array([0.        , 0.08550204, 0.03726409, 0.09952957, 0.05215711,\n",
      "       0.07656875, 0.04839629, 0.05568451, 0.09968835, 0.26996434,\n",
      "       0.12269347, 0.05419637]), array([0.01040491, 0.12609984, 0.03441743, 0.08179703, 0.10306397,\n",
      "       0.08765691, 0.17852387, 0.0698966 , 0.08807328, 0.07658843,\n",
      "       0.14228877, 0.00118894]), array([0.00953899, 0.01180495, 0.01087315, 0.02872241, 0.01834125,\n",
      "       0.10749324, 0.01940334, 0.08450874, 0.03645787, 0.05079243,\n",
      "       0.01057254, 0.61149111]), array([0.01303519, 0.25183248, 0.2041383 , 0.02771803, 0.06945472,\n",
      "       0.10004604, 0.00881784, 0.07941406, 0.11387531, 0.04229705,\n",
      "       0.09882717, 0.        ]), array([0.07841808, 0.26905277, 0.25943867, 0.07501616, 0.01842448,\n",
      "       0.04654882, 0.00986162, 0.05133713, 0.06820925, 0.04572415,\n",
      "       0.07730562, 0.00066324]), array([0.00480144, 0.08363186, 0.17679681, 0.23982488, 0.15743476,\n",
      "       0.03083918, 0.02158254, 0.        , 0.00941719, 0.09883404,\n",
      "       0.17930725, 0.        ]), array([0.00264485, 0.06193174, 0.04519788, 0.17433816, 0.23038751,\n",
      "       0.09063628, 0.0630904 , 0.01247767, 0.00546814, 0.17549162,\n",
      "       0.09842817, 0.03990759]), array([0.00837359, 0.10306703, 0.06872991, 0.04757699, 0.02748882,\n",
      "       0.15730428, 0.18671501, 0.10167341, 0.13583567, 0.02571934,\n",
      "       0.00682245, 0.13069351]), array([0.00700006, 0.09274359, 0.03060847, 0.03395691, 0.04890159,\n",
      "       0.14178236, 0.22794598, 0.24541115, 0.09540599, 0.01720485,\n",
      "       0.01255174, 0.04648732]), array([0.01366993, 0.00927884, 0.04106806, 0.05613175, 0.10794663,\n",
      "       0.10208638, 0.12222795, 0.24352858, 0.09250662, 0.05267414,\n",
      "       0.10236143, 0.0565197 ]), array([0.        , 0.00587462, 0.03348318, 0.16086957, 0.10139116,\n",
      "       0.04358419, 0.10815651, 0.02669711, 0.20581945, 0.13417491,\n",
      "       0.14191859, 0.03892116])]\n"
     ]
    }
   ],
   "source": [
    "print(core_intensity_list)\n"
   ]
  },
  {
   "cell_type": "code",
   "execution_count": null,
   "metadata": {},
   "outputs": [],
   "source": []
  },
  {
   "cell_type": "code",
   "execution_count": null,
   "metadata": {},
   "outputs": [],
   "source": []
  },
  {
   "cell_type": "code",
   "execution_count": null,
   "metadata": {},
   "outputs": [],
   "source": []
  },
  {
   "cell_type": "code",
   "execution_count": null,
   "metadata": {
    "scrolled": true
   },
   "outputs": [],
   "source": []
  },
  {
   "cell_type": "code",
   "execution_count": null,
   "metadata": {},
   "outputs": [],
   "source": []
  },
  {
   "cell_type": "markdown",
   "metadata": {},
   "source": []
  },
  {
   "cell_type": "code",
   "execution_count": null,
   "metadata": {},
   "outputs": [],
   "source": []
  },
  {
   "cell_type": "code",
   "execution_count": null,
   "metadata": {},
   "outputs": [],
   "source": []
  },
  {
   "cell_type": "code",
   "execution_count": null,
   "metadata": {},
   "outputs": [],
   "source": []
  },
  {
   "cell_type": "code",
   "execution_count": null,
   "metadata": {},
   "outputs": [],
   "source": []
  },
  {
   "cell_type": "code",
   "execution_count": null,
   "metadata": {},
   "outputs": [],
   "source": []
  },
  {
   "cell_type": "code",
   "execution_count": null,
   "metadata": {},
   "outputs": [],
   "source": []
  },
  {
   "cell_type": "code",
   "execution_count": null,
   "metadata": {},
   "outputs": [],
   "source": []
  }
 ],
 "metadata": {
  "kernelspec": {
   "display_name": "base",
   "language": "python",
   "name": "python3"
  },
  "language_info": {
   "codemirror_mode": {
    "name": "ipython",
    "version": 3
   },
   "file_extension": ".py",
   "mimetype": "text/x-python",
   "name": "python",
   "nbconvert_exporter": "python",
   "pygments_lexer": "ipython3",
   "version": "3.8.3"
  },
  "vscode": {
   "interpreter": {
    "hash": "d0da897c7d7e05c7283e0a5b6e33f76c7884867bc804433a7972abce5117f3a1"
   }
  }
 },
 "nbformat": 4,
 "nbformat_minor": 5
}
