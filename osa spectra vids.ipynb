{
 "cells": [
  {
   "cell_type": "code",
   "execution_count": 1,
   "metadata": {},
   "outputs": [],
   "source": [
    "\n",
    "import numpy as np\n",
    "import pandas as pd\n",
    "import matplotlib.pyplot as plt\n",
    "\n",
    "from matplotlib import animation\n",
    "from matplotlib import patches \n",
    "from matplotlib import colors \n",
    "from matplotlib import cm"
   ]
  },
  {
   "cell_type": "code",
   "execution_count": 2,
   "metadata": {},
   "outputs": [
    {
     "name": "stdout",
     "output_type": "stream",
     "text": [
      "0\n",
      "1\n",
      "2\n",
      "3\n",
      "4\n",
      "5\n",
      "6\n",
      "7\n",
      "8\n",
      "9\n",
      "10\n",
      "11\n",
      "12\n",
      "13\n",
      "14\n",
      "15\n",
      "16\n",
      "17\n",
      "18\n",
      "19\n"
     ]
    }
   ],
   "source": [
    "wavelengths_list_of_list = []\n",
    "intensities_list_of_list = []\n",
    "for n in range(0,20,1):\n",
    "    print(n)\n",
    "    spectra_n = pd.read_csv('../Fibre Design/Single Shot Data/24_01_23/Spectra/nath_24_01_23_{}.CSV'.format(n), skiprows=39, names=['Wavelength', 'Intensity'])\n",
    "    wavelengths_list_of_list.append(spectra_n.Wavelength.to_numpy())\n",
    "    intensities_list_of_list.append(spectra_n.Intensity.to_numpy())\n"
   ]
  },
  {
   "cell_type": "code",
   "execution_count": null,
   "metadata": {},
   "outputs": [],
   "source": []
  },
  {
   "cell_type": "code",
   "execution_count": 4,
   "metadata": {},
   "outputs": [
    {
     "data": {
      "image/png": "[encoded data removed]",
      "text/plain": [
       "<Figure size 432x432 with 1 Axes>"
      ]
     },
     "metadata": {
      "needs_background": "light"
     },
     "output_type": "display_data"
    }
   ],
   "source": [
    "fig_spectra = plt.figure(figsize=(6,6))\n",
    "ax_spectra = fig_spectra.add_subplot(111)\n",
    "\n",
    "ax_spectra.plot(spectra_n['Wavelength'], spectra_n['Intensity'])\n",
    "\n",
    "plt.show()"
   ]
  },
  {
   "cell_type": "code",
   "execution_count": 27,
   "metadata": {},
   "outputs": [],
   "source": [
    "def make_video(wavelength_list, intensities_list, fname, frame_no):\n",
    "    fig = plt.figure()\n",
    "    fig.set_dpi(400)\n",
    "    fig.set_size_inches(6, 5)\n",
    "\n",
    "    ax = plt.axes(xlim=(600, 800), ylim=(np.min(intensities_list), np.max(intensities_list)+1e-6))\n",
    "\n",
    "    def init():\n",
    "        ax.plot(wavelength_list[0], intensities_list[0])\n",
    "        ax.set_title('0 Rotations')\n",
    "        ax.set_xlabel('Wavelength (nm)')\n",
    "        ax.set_ylabel('Intensity (arb)')\n",
    "\n",
    "    def animate(i):\n",
    "        ax.clear()\n",
    "        # ax = plt.axes(xlim=(500, 800), ylim=(min(intensities_list), max(intensities_list)))\n",
    "        ax.plot(wavelength_list[i], intensities_list[i])\n",
    "        ax.set_title('{} Rotations'.format(i))\n",
    "        ax.set_xlim([600, 800])\n",
    "        ax.set_ylim([np.min(intensities_list), np.max(intensities_list)+1e-6])\n",
    "        ax.set_xlabel('Wavelength (nm)')\n",
    "        ax.set_ylabel('Intensity (arb)')\n",
    "\n",
    "    anim = animation.FuncAnimation(fig, animate, \n",
    "                                init_func=init, \n",
    "                                frames=frame_no, \n",
    "                                interval=3000,\n",
    "                                blit=False,\n",
    "                                save_count=frame_no,\n",
    "                                repeat=True)\n",
    "    writervideo = animation.FFMpegWriter(fps=1)\n",
    "    \n",
    "    plt.axis('off')\n",
    "    anim.save('../Propagation Videos/'+fname, writer=writervideo)\n",
    "    \n",
    "    plt.close()\n",
    "    return "
   ]
  },
  {
   "cell_type": "code",
   "execution_count": 28,
   "metadata": {},
   "outputs": [],
   "source": [
    "make_video(wavelengths_list_of_list, intensities_list_of_list, 'spectra_change_24_01.mp4', 20)"
   ]
  },
  {
   "cell_type": "code",
   "execution_count": null,
   "metadata": {},
   "outputs": [],
   "source": []
  }
 ],
 "metadata": {
  "kernelspec": {
   "display_name": "base",
   "language": "python",
   "name": "python3"
  },
  "language_info": {
   "codemirror_mode": {
    "name": "ipython",
    "version": 3
   },
   "file_extension": ".py",
   "mimetype": "text/x-python",
   "name": "python",
   "nbconvert_exporter": "python",
   "pygments_lexer": "ipython3",
   "version": "3.8.3 (default, Jul  2 2020, 17:30:36) [MSC v.1916 64 bit (AMD64)]"
  },
  "orig_nbformat": 4,
  "vscode": {
   "interpreter": {
    "hash": "d0da897c7d7e05c7283e0a5b6e33f76c7884867bc804433a7972abce5117f3a1"
   }
  }
 },
 "nbformat": 4,
 "nbformat_minor": 2
}
