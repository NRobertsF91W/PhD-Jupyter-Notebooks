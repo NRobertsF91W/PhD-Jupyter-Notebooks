{
 "cells": [
  {
   "cell_type": "code",
   "execution_count": 1,
   "metadata": {},
   "outputs": [],
   "source": [
    "import numpy as np\n",
    "import matplotlib.pyplot as plt\n",
    "import pandas as pd"
   ]
  },
  {
   "cell_type": "code",
   "execution_count": 3,
   "metadata": {},
   "outputs": [
    {
     "data": {
      "text/html": [
       "<div>\n",
       "<style scoped>\n",
       "    .dataframe tbody tr th:only-of-type {\n",
       "        vertical-align: middle;\n",
       "    }\n",
       "\n",
       "    .dataframe tbody tr th {\n",
       "        vertical-align: top;\n",
       "    }\n",
       "\n",
       "    .dataframe thead th {\n",
       "        text-align: right;\n",
       "    }\n",
       "</style>\n",
       "<table border=\"1\" class=\"dataframe\">\n",
       "  <thead>\n",
       "    <tr style=\"text-align: right;\">\n",
       "      <th></th>\n",
       "      <th>% k2</th>\n",
       "      <th>lambda</th>\n",
       "      <th>Propagation constant (rad/m)</th>\n",
       "    </tr>\n",
       "  </thead>\n",
       "  <tbody>\n",
       "    <tr>\n",
       "      <th>0</th>\n",
       "      <td>-1.0</td>\n",
       "      <td>1.4718657321668895</td>\n",
       "      <td>1.321144e+07</td>\n",
       "    </tr>\n",
       "    <tr>\n",
       "      <th>1</th>\n",
       "      <td>-1.0</td>\n",
       "      <td>1.4718658519603929</td>\n",
       "      <td>1.321144e+07</td>\n",
       "    </tr>\n",
       "    <tr>\n",
       "      <th>2</th>\n",
       "      <td>-1.0</td>\n",
       "      <td>1.4718660914012391</td>\n",
       "      <td>1.321144e+07</td>\n",
       "    </tr>\n",
       "    <tr>\n",
       "      <th>3</th>\n",
       "      <td>-1.0</td>\n",
       "      <td>1.4718663421073652</td>\n",
       "      <td>1.321144e+07</td>\n",
       "    </tr>\n",
       "    <tr>\n",
       "      <th>4</th>\n",
       "      <td>-1.0</td>\n",
       "      <td>1.4718666307977577</td>\n",
       "      <td>1.321144e+07</td>\n",
       "    </tr>\n",
       "    <tr>\n",
       "      <th>...</th>\n",
       "      <td>...</td>\n",
       "      <td>...</td>\n",
       "      <td>...</td>\n",
       "    </tr>\n",
       "    <tr>\n",
       "      <th>919</th>\n",
       "      <td>1.0</td>\n",
       "      <td>1.4718755574465123</td>\n",
       "      <td>1.321152e+07</td>\n",
       "    </tr>\n",
       "    <tr>\n",
       "      <th>920</th>\n",
       "      <td>1.0</td>\n",
       "      <td>1.471875748315521</td>\n",
       "      <td>1.321153e+07</td>\n",
       "    </tr>\n",
       "    <tr>\n",
       "      <th>921</th>\n",
       "      <td>1.0</td>\n",
       "      <td>1.4718759589904582</td>\n",
       "      <td>1.321153e+07</td>\n",
       "    </tr>\n",
       "    <tr>\n",
       "      <th>922</th>\n",
       "      <td>1.0</td>\n",
       "      <td>1.4718761428111102</td>\n",
       "      <td>1.321153e+07</td>\n",
       "    </tr>\n",
       "    <tr>\n",
       "      <th>923</th>\n",
       "      <td>1.0</td>\n",
       "      <td>1.471876202947539</td>\n",
       "      <td>1.321153e+07</td>\n",
       "    </tr>\n",
       "  </tbody>\n",
       "</table>\n",
       "<p>924 rows × 3 columns</p>\n",
       "</div>"
      ],
      "text/plain": [
       "     % k2              lambda  Propagation constant (rad/m)\n",
       "0    -1.0  1.4718657321668895                  1.321144e+07\n",
       "1    -1.0  1.4718658519603929                  1.321144e+07\n",
       "2    -1.0  1.4718660914012391                  1.321144e+07\n",
       "3    -1.0  1.4718663421073652                  1.321144e+07\n",
       "4    -1.0  1.4718666307977577                  1.321144e+07\n",
       "..    ...                 ...                           ...\n",
       "919   1.0  1.4718755574465123                  1.321152e+07\n",
       "920   1.0   1.471875748315521                  1.321153e+07\n",
       "921   1.0  1.4718759589904582                  1.321153e+07\n",
       "922   1.0  1.4718761428111102                  1.321153e+07\n",
       "923   1.0   1.471876202947539                  1.321153e+07\n",
       "\n",
       "[924 rows x 3 columns]"
      ]
     },
     "metadata": {},
     "output_type": "display_data"
    }
   ],
   "source": [
    "supercell_data = pd.read_csv('../COMSOL/Data/honeycomb supercell sheetdata.csv', header=4)\n",
    "display(supercell_data)"
   ]
  },
  {
   "cell_type": "code",
   "execution_count": 17,
   "metadata": {},
   "outputs": [],
   "source": [
    "modes_at_each_k_point = np.zeros([len(np.unique(supercell_data[\"% k2\"])), len(supercell_data[supercell_data[\"% k2\"] == -1.0])])\n",
    "for n,k in enumerate(np.unique(supercell_data[\"% k2\"])):\n",
    "    # print(k)\n",
    "    modes_at_each_k_point[n,:] = supercell_data[supercell_data[\"% k2\"] == k][\"Propagation constant (rad/m)\"].to_numpy()\n",
    "\n"
   ]
  },
  {
   "cell_type": "code",
   "execution_count": 20,
   "metadata": {},
   "outputs": [
    {
     "data": {
      "image/png": "[encoded data removed]",
      "text/plain": [
       "<Figure size 432x288 with 1 Axes>"
      ]
     },
     "metadata": {
      "needs_background": "light"
     },
     "output_type": "display_data"
    }
   ],
   "source": [
    "for n,i in enumerate(np.unique(supercell_data[\"% k2\"])):\n",
    "    plt.scatter(np.ones(len(modes_at_each_k_point[n,:]))*i,modes_at_each_k_point[n,:]);\n",
    "    # plt.ylim([1.3211480e7, 1.3211520e7])"
   ]
  },
  {
   "cell_type": "code",
   "execution_count": null,
   "metadata": {},
   "outputs": [],
   "source": []
  },
  {
   "cell_type": "code",
   "execution_count": null,
   "metadata": {},
   "outputs": [],
   "source": []
  }
 ],
 "metadata": {
  "interpreter": {
   "hash": "d0da897c7d7e05c7283e0a5b6e33f76c7884867bc804433a7972abce5117f3a1"
  },
  "kernelspec": {
   "display_name": "Python 3.8.3 ('base')",
   "language": "python",
   "name": "python3"
  },
  "language_info": {
   "codemirror_mode": {
    "name": "ipython",
    "version": 3
   },
   "file_extension": ".py",
   "mimetype": "text/x-python",
   "name": "python",
   "nbconvert_exporter": "python",
   "pygments_lexer": "ipython3",
   "version": "3.8.3"
  },
  "orig_nbformat": 4
 },
 "nbformat": 4,
 "nbformat_minor": 2
}
