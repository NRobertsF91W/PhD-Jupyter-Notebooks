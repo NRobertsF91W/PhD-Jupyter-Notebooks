{
 "cells": [
  {
   "cell_type": "code",
   "execution_count": 1,
   "metadata": {},
   "outputs": [
    {
     "name": "stdout",
     "output_type": "stream",
     "text": [
      "Using matplotlib backend: Qt5Agg\n"
     ]
    }
   ],
   "source": [
    "%matplotlib\n",
    "import numpy as np\n",
    "import matplotlib.pyplot as plt\n",
    "import pandas as pd\n",
    "import scipy.linalg as linalg\n",
    "import scipy.spatial as spat\n",
    "import matplotlib.patches as patches\n",
    "import matplotlib.colors as colors\n",
    "from scipy.spatial.distance import cdist\n",
    "from matplotlib.ticker import (MultipleLocator, AutoMinorLocator)"
   ]
  },
  {
   "cell_type": "markdown",
   "metadata": {},
   "source": [
    "Import the usual suspects"
   ]
  },
  {
   "cell_type": "code",
   "execution_count": 2,
   "metadata": {},
   "outputs": [],
   "source": [
    "PITCH = 4.2\n",
    "alpha = 10\n",
    "beta_0 = 1.3182817e+7\n",
    "coupling = 191"
   ]
  },
  {
   "cell_type": "markdown",
   "metadata": {},
   "source": [
    "## Building and solving a coupling matrix"
   ]
  },
  {
   "cell_type": "markdown",
   "metadata": {},
   "source": [
    "We want to solve something of the form \n",
    "\n",
    "$i \\frac{\\partial \\phi_n}{\\partial z} = C_{m, m+a_1} e^{iA((m + a_1) /2)\\cdot a_1} \\phi_{m+a_1} +  C_{m, m+a_2} e^{iA((m + a_2) /2)\\cdot a_2} \\phi_{m+a_2}+  C_{m, m+a_3} e^{iA((m + a_3) /2)\\cdot a_3} \\phi_{m+a_3} + D_n \\phi_n $\n",
    "\n",
    "The first three terms are the effects due to coupling with neighbours, while the fourth term is the on-site change due to the presence of twist.\n",
    "\n",
    "First let's define a function that handles the effects of twist"
   ]
  },
  {
   "cell_type": "markdown",
   "metadata": {},
   "source": [
    "Turning to: Ma X et al. 2011 Angular-momentum coupled optical waves in chirally-coupled-core fibers Opt. Expr. 19\n",
    "\n",
    "They find: $ \\beta_{hel} \\approx \\beta_{straight} \\sqrt{1+\\alpha^2 R^2}$ \n",
    "if $(\\alpha R)^2$ is small we can approximate: $\\beta_{hel} \\approx \\beta_{straight} + \\frac{\\beta_{straight}}{2}(\\alpha R)^2$\n"
   ]
  },
  {
   "cell_type": "code",
   "execution_count": 15,
   "metadata": {},
   "outputs": [],
   "source": [
    "def twisted_beta(beta_straight, twist_rate, radial_dist):\n",
    "    beta_hel = beta_straight*np.sqrt(1+ twist_rate**2 * radial_dist**2)\n",
    "    # print('Difference due to twist: {:.2f}'.format(beta_hel-beta_straight))\n",
    "    return beta_hel\n",
    "\n",
    "vec_twist_beta = np.vectorize(twisted_beta)"
   ]
  },
  {
   "cell_type": "code",
   "execution_count": 4,
   "metadata": {},
   "outputs": [
    {
     "name": "stdout",
     "output_type": "stream",
     "text": [
      "800\n"
     ]
    }
   ],
   "source": [
    "def build_honeycomb(n,m, pitch):\n",
    "    a_1 = np.array([3*pitch/2, np.sqrt(3)*pitch/2])\n",
    "    a_2 = np.array([3*pitch/2, -np.sqrt(3)*pitch/2])\n",
    "\n",
    "    coord_list = []\n",
    "    for j in range(m):\n",
    "        for i in range(n): \n",
    "            coord_list.append(a_1*i + a_2*j)\n",
    "\n",
    "    coord_list_shifted = coord_list + np.array([-pitch, 0])\n",
    "    coord_list = np.array(coord_list)\n",
    "    # print(coord_list_shifted)\n",
    "\n",
    "\n",
    "    full_coord_list = np.concatenate((coord_list, coord_list_shifted), axis=0)\n",
    "    centered_coord_list = full_coord_list - (n*a_1 + m*a_2)/2 + np.array([2*pitch,0])\n",
    "\n",
    "    return centered_coord_list\n",
    "b_10_list = build_honeycomb(20,20, PITCH)\n",
    "# plt.scatter(b_10_list[:,0], b_10_list[:,1]);   \n",
    "# plt.scatter(b_10_list[:,0]-11.5*PITCH, b_10_list[:,1]-np.sqrt(3)*PITCH/2); \n",
    "\n",
    "plt.axhline(0, color='black')\n",
    "plt.axvline(0, color='black')\n",
    "\n",
    "\n",
    "\n",
    "plt.scatter(b_10_list[:,0], b_10_list[:,1]); \n",
    "# plt.scatter(b_10_list[:10,0], b_10_list[:10,1]);\n",
    "# plt.scatter(b_10_list[10,0], b_10_list[10,1]);\n",
    "# plt.scatter(b_10_list[20,0], b_10_list[20,1]);\n",
    "print(len(b_10_list))"
   ]
  },
  {
   "cell_type": "markdown",
   "metadata": {},
   "source": [
    "If we want a deformed lattice we can delete cores using the code below "
   ]
  },
  {
   "cell_type": "code",
   "execution_count": 5,
   "metadata": {},
   "outputs": [],
   "source": [
    "def onclick(event):\n",
    "    pos.append([event.xdata,event.ydata])\n",
    "\n",
    "pos = []\n",
    "\n",
    "fig1 = plt.figure(figsize=(9,6))\n",
    "ax1 = fig1.add_subplot(111)\n",
    "\n",
    "ax1.scatter(b_10_list[:,0], b_10_list[:,1], cmap='Reds')\n",
    "ax1.xaxis.set_major_locator(MultipleLocator(10))\n",
    "ax1.xaxis.set_minor_locator(MultipleLocator(5))\n",
    "ax1.yaxis.set_major_locator(MultipleLocator(10))\n",
    "ax1.yaxis.set_minor_locator(MultipleLocator(5))\n",
    "#ax1.xaxis.set_major_formatter({x:.0f})\n",
    "plt.grid(which='both')\n",
    "\n",
    "fig1.canvas.mpl_connect('button_press_event', onclick)\n",
    "plt.show()\n"
   ]
  },
  {
   "cell_type": "code",
   "execution_count": null,
   "metadata": {},
   "outputs": [],
   "source": [
    "\n",
    "pos = np.array(pos)\n",
    "points_to_keep = np.where(cdist(b_10_list, pos, 'euclidean')>2, False, True )\n",
    "index_to_keep = np.invert(np.any(points_to_keep, axis=1))\n",
    "deformed_lattice= b_10_list[index_to_keep]\n",
    "# [print(type(i)) for i in pos]\n"
   ]
  },
  {
   "cell_type": "code",
   "execution_count": 146,
   "metadata": {},
   "outputs": [
    {
     "name": "stdout",
     "output_type": "stream",
     "text": [
      "[-35.7         32.73576026]\n"
     ]
    },
    {
     "name": "stderr",
     "output_type": "stream",
     "text": [
      "<ipython-input-146-08de7bca375d>:2: MatplotlibDeprecationWarning: Adding an axes using the same arguments as a previous axes currently reuses the earlier instance.  In a future version, a new instance will always be created and returned.  Meanwhile, this warning can be suppressed, and the future behavior ensured, by passing a unique label to each axes instance.\n",
      "  plt.axes().set_aspect('equal');\n"
     ]
    },
    {
     "data": {
      "image/png": "[encoded data removed]",
      "text/plain": [
       "<Figure size 432x288 with 1 Axes>"
      ]
     },
     "metadata": {
      "needs_background": "light"
     },
     "output_type": "display_data"
    }
   ],
   "source": [
    "plt.scatter(deformed_lattice[:,0], deformed_lattice[:,1]);\n",
    "plt.axes().set_aspect('equal');\n",
    "print(deformed_lattice[50,:])\n",
    "# points_in_circ = [(x,y) for x,y in zip(deformed_lattice[:,0], deformed_lattice[:,1]) if circ.contains_points]"
   ]
  },
  {
   "cell_type": "markdown",
   "metadata": {},
   "source": [
    "Now we want to read in a geometry from COMSOL and find the nearest neighbours"
   ]
  },
  {
   "cell_type": "code",
   "execution_count": 6,
   "metadata": {},
   "outputs": [],
   "source": [
    "\n",
    "# coord_data = pd.read_csv('../COMSOL/Data/Honeycomb/honeycomb coord locs small.csv', header=4,float_precision='round_trip')\n",
    "# # coord_data = pd.read_csv('../COMSOL/Data/Honeycomb/coupled_core_locs.csv', header=4,float_precision='round_trip')\n",
    "\n",
    "# #display(coord_data.iloc[:,1:])\n",
    "# x_coords = coord_data.iloc[:,1:128]\n",
    "# y_coords = coord_data.iloc[:,128:]\n",
    "# x_coord_np = x_coords.transpose()[0].to_numpy()\n",
    "# y_coord_np = y_coords.transpose()[0].to_numpy()\n",
    "\n",
    "# combined_list  = np.transpose(np.array((x_coord_np,y_coord_np)))\n",
    "\n",
    "\n",
    "def build_onsite(beta_straight, twist, coord_pairs):\n",
    "    distance_to_each_core = np.array([round(np.sqrt(i**2 + j**2),4) for i,j in coord_pairs])*1e-6\n",
    "\n",
    "    twist_for_each_core = vec_twist_beta(beta_straight, twist, distance_to_each_core) - beta_straight\n",
    "    onsite_matrix = np.diag(twist_for_each_core)\n",
    "\n",
    "    return onsite_matrix"
   ]
  },
  {
   "cell_type": "markdown",
   "metadata": {},
   "source": [
    "Next we build up the vector potential $\\mathbf{A}(\\mathbf{r})$"
   ]
  },
  {
   "cell_type": "code",
   "execution_count": 7,
   "metadata": {},
   "outputs": [],
   "source": [
    "def vec_potential(x,y, twist_rate, beta):\n",
    "    vec_A = twist_rate*beta*np.array([y,-x])\n",
    "    return vec_A\n"
   ]
  },
  {
   "cell_type": "markdown",
   "metadata": {},
   "source": [
    "draw three equal sections over the lattice"
   ]
  },
  {
   "cell_type": "code",
   "execution_count": 8,
   "metadata": {},
   "outputs": [],
   "source": [
    "\n",
    "def ABC_sections(x_size):\n",
    "    xyA = np.array([[0,0], [x_size, -x_size*0.5], [x_size, x_size], [0, x_size]])\n",
    "    xyC = np.array([[0,0],[x_size,-x_size*0.5],[x_size, -x_size*0.875], [-x_size,-0.875*x_size],[-x_size,-x_size*0.5]])\n",
    "    xyB = np.array([[0,0], [-x_size, -x_size*0.5], [-x_size, x_size], [0, x_size]])\n",
    "    shape_A = patches.Polygon(xyA,alpha=0.1, label='A')\n",
    "    shape_B = patches.Polygon(xyC,fc='red', alpha=0.1, label='C')\n",
    "    shape_C = patches.Polygon(xyB,fc='green', alpha=0.1, label='B')\n",
    "\n",
    "    return shape_A, shape_B, shape_C"
   ]
  },
  {
   "cell_type": "code",
   "execution_count": 43,
   "metadata": {},
   "outputs": [],
   "source": [
    "def index_in_sections(pair_list, sample_width):\n",
    "    A_shape, B_shape, C_shape, = ABC_sections(sample_width)\n",
    "    \n",
    "    fig_for_index = plt.figure(figsize=(9,6))\n",
    "    ax_for_index = fig_for_index.add_subplot(111)\n",
    "\n",
    "    ax_for_index.scatter(pair_list[:,0], pair_list[:,1])\n",
    "\n",
    "    ax_for_index.add_patch(A_shape)\n",
    "    ax_for_index.add_patch(B_shape)\n",
    "    ax_for_index.add_patch(C_shape)\n",
    "\n",
    "    Acont = A_shape.contains_points(ax_for_index.transData.transform(pair_list)).nonzero()[0]\n",
    "    Bcont = B_shape.contains_points(ax_for_index.transData.transform(pair_list)).nonzero()[0]\n",
    "    Ccont = C_shape.contains_points(ax_for_index.transData.transform(pair_list)).nonzero()[0]\n",
    "    plt.show()\n",
    "\n",
    "    return Acont, Bcont, Ccont"
   ]
  },
  {
   "cell_type": "markdown",
   "metadata": {},
   "source": [
    "Finally we stick all of these components into our coupling matrix C"
   ]
  },
  {
   "cell_type": "code",
   "execution_count": 10,
   "metadata": {},
   "outputs": [],
   "source": [
    "def find_eigvalues(pair_list, pitch, coupling_c, beta_straight, twist, with_onsite=True):\n",
    "    coupling_matrix = np.zeros((len(pair_list[:,0]),len(pair_list[:,0])),dtype=complex)\n",
    "    honeycomb_point_tree = spat.cKDTree(pair_list, leafsize=100)\n",
    "    nearest_neighbour_array = honeycomb_point_tree.query_pairs(pitch+0.001, output_type = 'ndarray')\n",
    "\n",
    "    for i in nearest_neighbour_array:\n",
    "        mid_point = (pair_list[i[0]] + pair_list[i[1]])/2\n",
    "        a_dist = (pair_list[i[0]] - pair_list[i[1]])*1.0e-6\n",
    "        # print(mid_point)\n",
    "        vec_term = vec_potential(mid_point[0]*1.0e-6, mid_point[1]*1.0e-6, twist, beta_straight)\n",
    "\n",
    "        coupling_matrix[i[0],i[1]] = coupling_c* np.exp(1.0j * np.dot(vec_term, a_dist))\n",
    "\n",
    "        a_dist_rev = (pair_list[i[1]] - pair_list[i[0]])*1.0e-6\n",
    "        coupling_matrix[i[1],i[0]] = coupling_c* np.exp(1.0j * np.dot(vec_term, a_dist_rev))\n",
    "    if with_onsite is True:\n",
    "        onsite_matrix = build_onsite(beta_straight, twist, pair_list)\n",
    "        full_C = coupling_matrix + onsite_matrix\n",
    "    else: \n",
    "        full_C = coupling_matrix\n",
    "    # print(np.allclose(full_C, np.transpose(np.conjugate(full_C))))\n",
    "    beta_super, eigvecs = np.linalg.eigh(full_C)\n",
    "\n",
    "    return beta_super,eigvecs\n"
   ]
  },
  {
   "cell_type": "code",
   "execution_count": 77,
   "metadata": {},
   "outputs": [],
   "source": [
    "# Plotting betas\n",
    "def plot_betas(beta_vals, coupling, point_label):\n",
    "    fig1  = plt.figure(figsize=(12,12))   \n",
    "    ax1 = fig1.add_subplot(111)\n",
    "    if type(beta_vals) == list:\n",
    "        for i,vals in enumerate(beta_vals):\n",
    "            ax1.scatter(np.arange(len(vals)), vals, label=point_label[i])\n",
    "\n",
    "    else: \n",
    "        ax1.scatter(np.arange(len(beta_vals)), beta_vals-np.mean(beta_vals), label=point_label)\n",
    "    ax1.grid(axis='x', which='both')\n",
    "    ax1.set_ylabel(r'$ \\beta/C$')\n",
    "    ax1.set_xlabel('Mode Index')\n",
    "    ax1.set_xlim(300,430)\n",
    "    plt.legend();\n"
   ]
  },
  {
   "cell_type": "code",
   "execution_count": 64,
   "metadata": {},
   "outputs": [],
   "source": [
    "# For nice plotting of eigenvectors \n",
    "def plot_coloured_chain(intensities, circ_size, circ_locations, label):\n",
    "    \"\"\"\n",
    "    \n",
    "    \"\"\"\n",
    "    fig_chain = plt.figure(figsize=(15,10))\n",
    "    ax_chain = fig_chain.add_subplot(111)\n",
    "    intensities = intensities/np.sum(intensities)\n",
    "    circ_list = []\n",
    "    norm = colors.Normalize(vmin=min(np.real(intensities)), vmax=max(np.real(intensities)))\n",
    "    cmap = plt.cm.get_cmap('Reds')\n",
    "    cmap(norm(np.real(intensities)))\n",
    "\n",
    "    for j in range(len(intensities)):\n",
    "        #print(intensities[j])\n",
    "        circ_list.append(patches.Circle((circ_locations[j][0], circ_locations[j][1]), radius=circ_size//2,\n",
    "                                            color=cmap(norm(np.real(intensities[j]))),ec='black')) \n",
    "\n",
    "#         ax_chain.annotate(str(j), (circ_locations[j][0], circ_locations[j][1]), color='black',\n",
    "#                           fontsize=10, ha='center', va='center')\n",
    "   \n",
    "    plt.axis('off')\n",
    "    # Plot all circles\n",
    "    for _circ in circ_list:\n",
    "        ax_chain.add_patch(_circ)\n",
    "    plt.title('Mode no. {:d}'.format(label), loc='left')\n",
    "    plt.axis('scaled')\n",
    "    plt.show()     \n",
    "    return "
   ]
  },
  {
   "cell_type": "markdown",
   "metadata": {},
   "source": [
    "Calculate local Chern number"
   ]
  },
  {
   "cell_type": "code",
   "execution_count": 65,
   "metadata": {},
   "outputs": [],
   "source": [
    "fig_lattice = plt.figure(figsize=(10,10))\n",
    "ax_lattice = fig_lattice.add_subplot(111)\n",
    "\n",
    "ax_lattice.scatter(b_10_list[:,0], b_10_list[:,1])\n",
    "a_s, b_s, c_s = ABC_sections(40)\n",
    "ax_lattice.add_patch(a_s)\n",
    "ax_lattice.add_patch(b_s)\n",
    "ax_lattice.add_patch(c_s)\n",
    "\n",
    "plt.show()"
   ]
  },
  {
   "cell_type": "code",
   "execution_count": 78,
   "metadata": {},
   "outputs": [],
   "source": [
    "# beta_100 = beta_super\n",
    "#print(eigvecs)\n",
    "# print(beta_super)\n",
    "# beta_vals_10, beta_vecs_10 = find_eigvalues(b_10_list, 4.5, 2*coupling, beta_0, 10)\n",
    "# beta_vals_20, beta_vecs_20 = find_eigvalues(b_10_list, 4.5, 3*coupling, beta_0, 0)\n",
    "# beta_vals_30 = find_eigvalues(b_10_list, 3.0, coupling, beta_0, 10)\n",
    "# beta_vals_40 = find_eigvalues(b_10_list, 2.5, coupling, beta_0, 10)\n",
    "\n",
    "\n",
    "beta_vals_1, beta_vecs_1 = find_eigvalues(b_10_list, 4.2, 6700, 5876619.5, 1000, with_onsite=False)\n",
    "plot_betas(beta_vals_1, 6700,'Twist: 1000')"
   ]
  },
  {
   "cell_type": "code",
   "execution_count": 80,
   "metadata": {},
   "outputs": [
    {
     "name": "stdout",
     "output_type": "stream",
     "text": [
      "True\n"
     ]
    }
   ],
   "source": [
    "# First I build up the projector matrix for the desired band\n",
    "band_range = np.arange(300,351)\n",
    "individual_matrix_list = np.zeros((len(beta_vecs_1), len(beta_vecs_1), len(band_range)), dtype=np.complex128)\n",
    "# print(np.shape(individual_matrix_list))\n",
    "for n,point in enumerate(band_range):\n",
    "    individual_matrix_list[:,:,n] = np.outer(beta_vecs_1[point],beta_vecs_1[point])\n",
    "\n",
    "projector_matrix = np.sum(individual_matrix_list, axis=2)   \n",
    "# print(projector_matrix)\n",
    "# Next I collect points in A,B,C sections\n",
    "a_indices, b_indices, c_indices = index_in_sections(b_10_list, 40)\n",
    "\n",
    "# Finally I find the overlap of the projector with all combinations of points \n",
    "def check_symmetric(a, rtol=1e-05, atol=1e-08):\n",
    "    return np.allclose(a, a.T, rtol=rtol, atol=atol)\n",
    "\n",
    "print(check_symmetric(projector_matrix))\n",
    "# print(eye)\n",
    "# def P_i_j_overlap(i,j, Projector):\n",
    "#     xi_vec = np.zeros(len(Projector[:,0]))\n",
    "#     xj_vec = np.zeros(len(Projector[:,0]))\n",
    "#     xi_vec[i] = 1\n",
    "#     xj_vec[j] = 1\n",
    "#     P_ij = np.matmul(np.transpose(xi_vec),np.matmul(Projector, xj_vec))\n",
    "#     return P_ij\n",
    "\n",
    "# def h_i_j_k(j,k,l, Projector):\n",
    "#     p_jk = P_i_j_overlap(j, k, Projector)\n",
    "#     p_kl = P_i_j_overlap(k, l, Projector)\n",
    "#     p_lj = P_i_j_overlap(l, j, Projector)\n",
    "#     #\n",
    "#     p_jl = P_i_j_overlap(j, l, Projector)\n",
    "#     p_lk = P_i_j_overlap(l, k, Projector)\n",
    "#     p_kj = P_i_j_overlap(k, j, Projector)\n",
    "\n",
    "#     h = 12*np.pi*1.0j*(p_jk*p_kl*p_lj - p_jl*p_lk*p_kj)\n",
    "#     return h\n",
    "\n",
    "all_h_vals = np.zeros((len(a_indices), len(b_indices), len(c_indices)), dtype=np.complex128)\n",
    "\n",
    "for na,a_index in enumerate(a_indices):\n",
    "    for nb,b_index in enumerate(b_indices):\n",
    "        for nc,c_index in enumerate(c_indices):\n",
    "            all_h_vals[na, nb, nc] = 12*np.pi*1.0j*(projector_matrix[a_index,b_index]*projector_matrix[b_index, c_index]*projector_matrix[c_index,a_index] - \n",
    "                                                    projector_matrix[a_index,c_index]*projector_matrix[c_index, b_index]*projector_matrix[b_index,a_index])\n",
    "                                                    #h_i_j_k(a_index, b_index, c_index, projector_matrix)\n",
    "\n",
    "\n"
   ]
  },
  {
   "cell_type": "code",
   "execution_count": 76,
   "metadata": {},
   "outputs": [
    {
     "name": "stdout",
     "output_type": "stream",
     "text": [
      "(2.5934149956778642e-18-4.690205054493544e-19j)\n"
     ]
    }
   ],
   "source": [
    "print(np.sum(all_h_vals))"
   ]
  },
  {
   "cell_type": "markdown",
   "metadata": {},
   "source": [
    "Now let's look at some of the eigenmodes "
   ]
  },
  {
   "cell_type": "markdown",
   "metadata": {},
   "source": [
    "No on-site term with low twist"
   ]
  },
  {
   "cell_type": "code",
   "execution_count": null,
   "metadata": {},
   "outputs": [],
   "source": [
    "vec_intensities = np.conjugate(beta_vecs_1)*beta_vecs_1\n",
    "for i in range(340,360):\n",
    "    plot_coloured_chain(vec_intensities[:,i], 4.2, deformed_lattice,i)\n",
    "\n",
    "\n"
   ]
  },
  {
   "cell_type": "markdown",
   "metadata": {},
   "source": [
    "Upping twist \n",
    "Edges present at 100, edges have moved but still present at 1000 as landau levels split further, edges still present at 10000 twist with landau levels almost washed out"
   ]
  },
  {
   "cell_type": "markdown",
   "metadata": {},
   "source": [
    "Grouping together some functions and parameters to make investigation of coupling and pitch effects easier"
   ]
  },
  {
   "cell_type": "code",
   "execution_count": null,
   "metadata": {},
   "outputs": [],
   "source": [
    "def build_and_find_eigs(n,m, pitch, c, beta_straight, twist, onsite=True):\n",
    "    point_list = build_honeycomb(n,m,pitch)\n",
    "    eigvals, eigvecs = find_eigvalues(point_list, pitch, c, beta_straight, twist, with_onsite=onsite)\n",
    "    return eigvals, eigvecs\n",
    "   "
   ]
  },
  {
   "cell_type": "code",
   "execution_count": null,
   "metadata": {},
   "outputs": [],
   "source": [
    "beta_vals_sweep_1, beta_vecs_sweep_1 = build_and_find_eigs(7, 7, 4, 200, beta_0, 1000, True)\n",
    "beta_vals_sweep_2, beta_vecs_sweep_2 = build_and_find_eigs(7, 7, 4, 500, beta_0, 1000, True)\n",
    "beta_vals_sweep_3, beta_vecs_sweep_3 = build_and_find_eigs(7, 7, 4, 1000, beta_0, 1000, True)\n",
    "beta_vals_sweep_4, beta_vecs_sweep_4 = build_and_find_eigs(7, 7, 4.2, 7000, beta_0, 900, True)\n",
    "plot_betas([beta_vals_sweep_1, beta_vals_sweep_2, beta_vals_sweep_3, beta_vals_sweep_4], 191,[r'Coupling: $\\alpha$', r'Coupling: 5$\\alpha$', r'Coupling: 10$\\alpha$', r'Coupling: 20$\\alpha$'])"
   ]
  },
  {
   "cell_type": "code",
   "execution_count": null,
   "metadata": {},
   "outputs": [],
   "source": [
    "vec_intensities_sweep = np.conjugate(beta_vecs_sweep_4)*beta_vecs_sweep_4\n",
    "point_list = build_honeycomb(7, 7, 4.2)\n",
    "\n",
    "for i in range(100):\n",
    "    plot_coloured_chain(vec_intensities_sweep[:,i], 4, point_list, i);"
   ]
  },
  {
   "cell_type": "code",
   "execution_count": null,
   "metadata": {},
   "outputs": [],
   "source": [
    "beta_vals_onsite_low, beta_vecs_onsite_low = find_eigvalues(b_10_list, 4.5, 3*coupling, beta_0, 50)\n",
    "plot_betas(beta_vals_onsite_low, 3*coupling)"
   ]
  },
  {
   "cell_type": "code",
   "execution_count": null,
   "metadata": {},
   "outputs": [],
   "source": [
    "\n",
    "vec_intensities_onsite_low = np.conjugate(beta_vecs_onsite_low)*beta_vecs_onsite_low\n",
    "\n",
    "for i in range(3000,3050):\n",
    "    plot_coloured_chain(vec_intensities_onsite_low[:,i], 3, b_10_list,i);"
   ]
  },
  {
   "cell_type": "code",
   "execution_count": null,
   "metadata": {},
   "outputs": [],
   "source": [
    "vec_pot_list = []\n",
    "\n",
    "for n in range(100):\n",
    "    mid_point = (b_10_list[0,:] + b_10_list[n,:])/2\n",
    "    a_dist = (b_10_list[0,:] - b_10_list[n,:])*1.0e-6\n",
    "    term = vec_potential(mid_point[0]*1.0e-6, mid_point[1]*1.0e-6, 1000, beta_0)\n",
    "    vec_pot_list.append(np.exp(1.0j *np.dot(term, a_dist)))"
   ]
  },
  {
   "cell_type": "code",
   "execution_count": null,
   "metadata": {},
   "outputs": [],
   "source": [
    "plt.plot(np.arange(len(vec_pot_list)), vec_pot_list);\n",
    "# plt.axhline(1.0, color='black');\n",
    "# plt.axvline(272,color='red');"
   ]
  },
  {
   "cell_type": "code",
   "execution_count": null,
   "metadata": {},
   "outputs": [],
   "source": [
    "print(vec_pot_list[265:275])"
   ]
  },
  {
   "cell_type": "code",
   "execution_count": null,
   "metadata": {},
   "outputs": [],
   "source": [
    "vec_pot_list_2 = []\n",
    "\n",
    "for m in range(59):\n",
    "    mid_point = (b_10_list[0,:] + b_10_list[(m+1)*60,:])/2\n",
    "    a_dist = (b_10_list[0,:] - b_10_list[(m+1)*60,:])*1.0e-6\n",
    "    term = vec_potential(mid_point[0]*1.0e-6, mid_point[1]*1.0e-6, 20, beta_0)\n",
    "    vec_pot_list_2.append(np.exp(1.0j *np.dot(term, a_dist)))"
   ]
  },
  {
   "cell_type": "code",
   "execution_count": null,
   "metadata": {},
   "outputs": [],
   "source": [
    "plt.plot(np.arange(len(vec_pot_list_2)), vec_pot_list_2);\n",
    "# plt.axhline(1.0, color='black');\n",
    "# plt.axvline(272,color='red');"
   ]
  },
  {
   "cell_type": "markdown",
   "metadata": {},
   "source": [
    "Selecting only a hexagon around the origin to look at overall gamma change "
   ]
  },
  {
   "cell_type": "code",
   "execution_count": null,
   "metadata": {},
   "outputs": [],
   "source": [
    "pos = []\n",
    "\n",
    "fig_hex = plt.figure(figsize=(9,6))\n",
    "ax_hex = fig_hex.add_subplot(111)\n",
    "\n",
    "ax_hex.scatter(b_10_list[:,0], b_10_list[:,1], cmap='Reds')\n",
    "ax_hex.xaxis.set_major_locator(MultipleLocator(10))\n",
    "ax_hex.xaxis.set_minor_locator(MultipleLocator(5))\n",
    "ax_hex.yaxis.set_major_locator(MultipleLocator(10))\n",
    "ax_hex.yaxis.set_minor_locator(MultipleLocator(5))\n",
    "#ax1.xaxis.set_major_formatter({x:.0f})\n",
    "plt.grid(which='both')\n",
    "\n",
    "fig_hex.canvas.mpl_connect('button_press_event', onclick)\n",
    "plt.show()"
   ]
  },
  {
   "cell_type": "code",
   "execution_count": null,
   "metadata": {},
   "outputs": [],
   "source": [
    "\n",
    "\n",
    "pos = np.array(pos)\n",
    "points_to_keep = np.where(cdist(b_10_list, pos, 'euclidean')>2, False, True )\n",
    "index_to_keep = np.any(points_to_keep, axis=1)\n",
    "selected_hexagon = b_10_list[index_to_keep]\n",
    "# [print(type(i)) for i in pos]\n",
    "col_list = ['red', 'green', 'black', 'blue', 'yellow', 'brown']\n",
    "for i in range(6):\n",
    "    plt.scatter(selected_hexagon[i,0], selected_hexagon[i,1], color=col_list[i]);"
   ]
  },
  {
   "cell_type": "code",
   "execution_count": null,
   "metadata": {},
   "outputs": [],
   "source": [
    "alist = []\n",
    "phase_list = []\n",
    "\n",
    "for coord in enumerate(selected_hexagon):\n",
    "    alist.append(vec_potential(coord[0]*1.0e-6, coord[1]*1.0e-6, 20, beta_0))\n",
    "\n",
    "r1_2 = selected_hexagon[2] - selected_hexagon[4] # yellow to black\n",
    "r2_3 = selected_hexagon[5] - selected_hexagon[2] # black to brown\n",
    "r3_4 = selected_hexagon[1] - selected_hexagon[5] # brown to green\n",
    "r4_5 = selected_hexagon[3] - selected_hexagon[1] # green to blue\n",
    "r5_6 = selected_hexagon[0] - selected_hexagon[3] # blue to red\n",
    "r6_1 = selected_hexagon[4] - selected_hexagon[0] # red to yellow \n",
    "\n",
    "r_list = [r6_1, r4_5, r2_3, r5_6, r1_2, r3_4]\n",
    "phase_list = np.array([1,-1,1,-1,1,-1])\n",
    "\n",
    "for n in range(len(r_list)):\n",
    "    sum_list = phase_list[n]*np.dot(r_list[n]*1.0e-6,alist[n])\n",
    "\n",
    "print(sum(sum_list))"
   ]
  },
  {
   "cell_type": "markdown",
   "metadata": {},
   "source": [
    "That kind of looks like nonsense. I will do the square case and verify it all works "
   ]
  },
  {
   "cell_type": "code",
   "execution_count": null,
   "metadata": {},
   "outputs": [],
   "source": [
    "print(np.shape(beta_vecs_pen))\n",
    "gsp = np.zeros((len(beta_vecs_pen), len(beta_vecs_pen), len(beta_vecs_pen)), dtype=np.complex128)\n",
    "\n",
    "for i in range(len(gsp[0,:])):\n",
    "    gsp[:,:,i] = np.outer(beta_vecs_pen[:,i], beta_vecs_pen[:,i])\n",
    "\n",
    "print(np.sum(gsp, axis=2))"
   ]
  },
  {
   "cell_type": "markdown",
   "metadata": {},
   "source": [
    "Measuring the penetration depth of an edge mode"
   ]
  },
  {
   "cell_type": "code",
   "execution_count": null,
   "metadata": {},
   "outputs": [],
   "source": [
    "beta_vals_pen, beta_vecs_pen = build_and_find_eigs(10, 10, 4.2, 5000, 5876619, 300, False)"
   ]
  },
  {
   "cell_type": "code",
   "execution_count": null,
   "metadata": {},
   "outputs": [],
   "source": [
    "plot_betas(beta_vals_pen, 6700, '')"
   ]
  },
  {
   "cell_type": "code",
   "execution_count": null,
   "metadata": {},
   "outputs": [],
   "source": [
    "vec_intensities_pen = np.conjugate(beta_vecs_pen)*beta_vecs_pen\n",
    "point_list = build_honeycomb(25, 25, 4.2)\n",
    "# find_eigvalues(point_list, 4.2, 5000, 5876619.5, 300)\n",
    "for i in range(400, 625):\n",
    "    plot_coloured_chain(vec_intensities_pen[:,i], 4.2, point_list, i);"
   ]
  },
  {
   "cell_type": "code",
   "execution_count": null,
   "metadata": {},
   "outputs": [],
   "source": [
    "%matplotlib \n",
    "pos = []\n",
    "\n",
    "fig_pen_depth = plt.figure(figsize=(9,6))\n",
    "ax_pen_depth = fig_pen_depth.add_subplot(111)\n",
    "\n",
    "ax_pen_depth.scatter(point_list[:,0], point_list[:,1], cmap='Reds')\n",
    "ax_pen_depth.xaxis.set_major_locator(MultipleLocator(10))\n",
    "ax_pen_depth.xaxis.set_minor_locator(MultipleLocator(5))\n",
    "ax_pen_depth.yaxis.set_major_locator(MultipleLocator(10))\n",
    "ax_pen_depth.yaxis.set_minor_locator(MultipleLocator(5))\n",
    "#ax1.xaxis.set_major_formatter({x:.0f})\n",
    "plt.grid(which='both')\n",
    "\n",
    "fig_pen_depth.canvas.mpl_connect('button_press_event', onclick)\n",
    "plt.show()\n"
   ]
  },
  {
   "cell_type": "code",
   "execution_count": null,
   "metadata": {},
   "outputs": [],
   "source": [
    "\n",
    "pos = np.array(pos)\n",
    "points_to_keep = np.where(cdist(point_list, pos, 'euclidean')>2, False, True )\n",
    "penetration_indices = np.any(points_to_keep, axis=1)\n",
    "selected_cores = point_list[penetration_indices]\n",
    "plt.scatter(selected_cores[:,0], selected_cores[:,1]);\n",
    "plt.axes().set_aspect('equal');\n"
   ]
  },
  {
   "cell_type": "markdown",
   "metadata": {},
   "source": []
  },
  {
   "cell_type": "code",
   "execution_count": null,
   "metadata": {},
   "outputs": [],
   "source": [
    "# print(beta_vecs_pen[:,44])\n",
    "# print(vec_intensities_pen[penetration_indices,])"
   ]
  },
  {
   "cell_type": "code",
   "execution_count": null,
   "metadata": {},
   "outputs": [],
   "source": [
    "# twist_1000_edge_list = vec_intensities_pen[penetration_indices, 595]\n",
    "# twist_2000_edge_list = vec_intensities_pen[penetration_indices, 347]\n",
    "# twist_3000_edge_list = vec_intensities_pen[penetration_indices, 341]\n",
    "# twist_4000_edge_list = vec_intensities_pen[penetration_indices, 335]\n",
    "# twist_5000_edge_list = vec_intensities_pen[penetration_indices, 328]\n",
    "\n",
    "# twist_edges = np.zeros((10,len(vec_intensities_pen[penetration_indices, 0])))\n",
    "# for n,i in enumerate(range(595,605)):\n",
    "#     twist_edges[n,:] = vec_intensities_pen[penetration_indices, i]\n",
    "\n",
    "# twist_edge_mean_6 = np.mean(twist_edges, axis=0)\n",
    "# print(twist_edge_mean)\n",
    "# twisted_edge_lists = [twist_1000_edge_list, twist_2000_edge_list, twist_3000_edge_list, twist_4000_edge_list, twist_5000_edge_list]\n",
    "# twisted_edge_lists = [twist_edge_mean_1, twist_edge_mean_2, twist_edge_mean_3, twist_edge_mean_4, twist_edge_mean_5,\n",
    "                    #   twist_edge_mean_6]#, twist_edge_mean_7, twist_edge_mean_8, twist_edge_mean_9, twist_edge_mean_10]\n"
   ]
  },
  {
   "cell_type": "code",
   "execution_count": null,
   "metadata": {},
   "outputs": [],
   "source": [
    "print(twist_edge_mean_1)"
   ]
  },
  {
   "cell_type": "code",
   "execution_count": null,
   "metadata": {},
   "outputs": [],
   "source": [
    "import scipy.optimize as sciop"
   ]
  },
  {
   "cell_type": "code",
   "execution_count": null,
   "metadata": {},
   "outputs": [],
   "source": [
    "def exp_func(x,a,b):\n",
    "    return a*np.exp(b*x)\n",
    "\n",
    "def exp_squared_func(x, a, b):\n",
    "    return a*np.exp(b*x**2)\n",
    "\n",
    "def square_root(x, a):\n",
    "    return a/np.sqrt(x)\n",
    "\n",
    "    \n",
    "def over_x(x, a):\n",
    "    return a/x"
   ]
  },
  {
   "cell_type": "code",
   "execution_count": null,
   "metadata": {},
   "outputs": [],
   "source": [
    "mag_list = np.zeros(len(twisted_edge_lists))\n",
    "# print(mag_list)\n",
    "for n, elist in enumerate(twisted_edge_lists):\n",
    "    popt, pcov = sciop.curve_fit(exp_func, np.arange(len(elist)), elist)\n",
    "    popt_squared, pcov_squared = sciop.curve_fit(exp_squared_func, np.arange(len(elist)), elist)\n",
    "    print(popt[1])\n",
    "    mag_length = 1/popt[1]\n",
    "    mag_list[n] = mag_length\n",
    "\n",
    "# popt, pcov = sciop.curve_fit(exp_func, np.arange(len(twist_edge_mean_1)), twist_edge_mean_1)\n",
    "# x_step = np.arange(0,12,0.01)\n",
    "# y_vals = popt[0]*np.exp(popt[1]*x_step)\n",
    "# y_vals_squared = popt_squared[0]*np.exp(popt_squared[1]*x_step)"
   ]
  },
  {
   "cell_type": "code",
   "execution_count": null,
   "metadata": {},
   "outputs": [],
   "source": [
    "fig_intensities = plt.figure(figsize=(10,8))\n",
    "ax_intensities = fig_intensities.add_subplot(111)\n",
    "\n",
    "# for k, n in enumerate(twisted_edge_lists):\n",
    "    # ax_intensities.plot(np.arange(len(n)),n, label=k)\n",
    "\n",
    "ax_intensities.scatter(np.arange(len(twist_edge_mean_1)), twist_edge_mean_1)\n",
    "ax_intensities.plot(x_step, y_vals) \n",
    "# ax_intensities.plot(x_step, y_vals_squared) \n",
    "# ax_intensities.set_yscale('log')\n",
    "plt.legend()"
   ]
  },
  {
   "cell_type": "code",
   "execution_count": null,
   "metadata": {},
   "outputs": [],
   "source": [
    "fig_mag_length = plt.figure(figsize=(10,8))\n",
    "ax_mag_length = fig_mag_length.add_subplot(111)\n",
    "twist_list = [300, 280, 260, 240, 220, 200]\n",
    "\n",
    "sqrt_popt, sqrt_pcov = sciop.curve_fit(square_root, twist_list, mag_list)\n",
    "over_popt, over_pcov = sciop.curve_fit(over_x, twist_list, mag_list)\n",
    "sqrt_xlist = np.arange(np.min(twist_list), np.max(twist_list),1)\n",
    "sqrt_ylist = sqrt_popt[0]/np.sqrt(sqrt_xlist)\n",
    "over_ylist = over_popt[0]/sqrt_xlist\n",
    "\n",
    "\n",
    "ax_mag_length.scatter(twist_list, mag_list)\n",
    "ax_mag_length.plot(sqrt_xlist, sqrt_ylist, label='y = {:.4f}/sqrt(x)'.format(popt[0]))\n",
    "ax_mag_length.plot(sqrt_xlist, over_ylist, label='y = {:.2f}/x'.format(over_popt[0]))\n",
    "ax_mag_length.set_ylabel('Magnetic Length l')\n",
    "ax_mag_length.set_xlabel(r'Twist rate $\\alpha$')\n",
    "plt.legend()\n",
    "plt.show()"
   ]
  },
  {
   "cell_type": "markdown",
   "metadata": {},
   "source": []
  },
  {
   "cell_type": "code",
   "execution_count": 152,
   "metadata": {},
   "outputs": [
    {
     "name": "stdout",
     "output_type": "stream",
     "text": [
      "(4, 2)\n",
      "A contains:\n",
      " [0 1 2 3]\n",
      "B contains:\n",
      " [5]\n",
      "C contains:\n",
      " [0 6]\n"
     ]
    },
    {
     "data": {
      "image/png": "[encoded data removed]",
      "text/plain": [
       "<Figure size 720x720 with 1 Axes>"
      ]
     },
     "metadata": {
      "needs_background": "light"
     },
     "output_type": "display_data"
    }
   ],
   "source": [
    "fig_circ = plt.figure(figsize=(10,10))\n",
    "ax_circ = fig_circ.add_subplot(111)\n",
    "xyA = np.array([[0,0], [2,-1], [2,2], [0,2]])\n",
    "xyC = np.array([[0,0],[2,-1],[2, -1.75], [-2,-1.75],[-2,-1]])\n",
    "xyB = np.array([[0,0], [-2,-1], [-2,2], [0,2]])\n",
    "print(np.shape(xyA))\n",
    "test_circ_A = patches.Polygon(xyA,alpha=0.1, label='A')\n",
    "test_circ_C = patches.Polygon(xyC,fc='red', alpha=0.1, label='C')\n",
    "test_circ_B = patches.Polygon(xyB,fc='green', alpha=0.1, label='B')\n",
    "points_test = np.array([[0,0],[0.5,0.5], [0.75,0.75],[2,2],[3,3],[-0.3,1],[0.6, -1.2]])\n",
    "ax_circ.scatter(points_test[:,0], points_test[:,1])\n",
    "ax_circ.add_patch(test_circ_A)\n",
    "ax_circ.add_patch(test_circ_C)\n",
    "ax_circ.add_patch(test_circ_B)\n",
    "\n",
    "Acont = test_circ_A.contains_points(ax_circ.transData.transform(points_test)).nonzero()[0]\n",
    "Bcont = test_circ_B.contains_points(ax_circ.transData.transform(points_test)).nonzero()[0]\n",
    "Ccont = test_circ_C.contains_points(ax_circ.transData.transform(points_test)).nonzero()[0]\n",
    "print('A contains:\\n '+str(Acont))\n",
    "print('B contains:\\n '+str(Bcont))\n",
    "print('C contains:\\n '+str(Ccont))\n",
    "\n",
    "plt.legend()\n",
    "plt.show()\n",
    "\n",
    "\n",
    "\n",
    "    \n"
   ]
  },
  {
   "cell_type": "code",
   "execution_count": null,
   "metadata": {},
   "outputs": [],
   "source": []
  }
 ],
 "metadata": {
  "interpreter": {
   "hash": "d0da897c7d7e05c7283e0a5b6e33f76c7884867bc804433a7972abce5117f3a1"
  },
  "kernelspec": {
   "display_name": "Python 3.8.3 ('base')",
   "language": "python",
   "name": "python3"
  },
  "language_info": {
   "codemirror_mode": {
    "name": "ipython",
    "version": 3
   },
   "file_extension": ".py",
   "mimetype": "text/x-python",
   "name": "python",
   "nbconvert_exporter": "python",
   "pygments_lexer": "ipython3",
   "version": "3.8.3"
  },
  "orig_nbformat": 4
 },
 "nbformat": 4,
 "nbformat_minor": 2
}
