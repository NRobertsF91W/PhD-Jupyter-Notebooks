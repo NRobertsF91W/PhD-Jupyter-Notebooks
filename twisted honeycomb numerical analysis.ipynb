{
 "cells": [
  {
   "cell_type": "code",
   "execution_count": 38,
   "metadata": {},
   "outputs": [
    {
     "name": "stdout",
     "output_type": "stream",
     "text": [
      "Using matplotlib backend: Qt5Agg\n"
     ]
    }
   ],
   "source": [
    "%matplotlib\n",
    "import numpy as np\n",
    "import matplotlib.pyplot as plt\n",
    "import pandas as pd\n",
    "import scipy.linalg as linalg\n",
    "import scipy.spatial as spat\n",
    "import matplotlib.patches as patches\n",
    "import matplotlib.colors as colors\n",
    "from scipy.spatial.distance import cdist\n",
    "from matplotlib.ticker import (MultipleLocator, AutoMinorLocator)"
   ]
  },
  {
   "cell_type": "markdown",
   "metadata": {},
   "source": [
    "Import the usual suspects"
   ]
  },
  {
   "cell_type": "code",
   "execution_count": 139,
   "metadata": {},
   "outputs": [],
   "source": [
    "PITCH = 4.5\n",
    "alpha = 10\n",
    "beta_0 = 1.3182817e+7\n",
    "coupling = 191"
   ]
  },
  {
   "cell_type": "markdown",
   "metadata": {},
   "source": [
    "## Building and solving a coupling matrix"
   ]
  },
  {
   "cell_type": "markdown",
   "metadata": {},
   "source": [
    "We want to solve something of the form \n",
    "\n",
    "$i \\frac{\\partial \\phi_n}{\\partial z} = C_{m, m+a_1} e^{iA((m + a_1) /2)\\cdot a_1} \\phi_{m+a_1} +  C_{m, m+a_2} e^{iA((m + a_2) /2)\\cdot a_2} \\phi_{m+a_2}+  C_{m, m+a_3} e^{iA((m + a_3) /2)\\cdot a_3} \\phi_{m+a_3} + D_n \\phi_n $\n",
    "\n",
    "The first three terms are the effects due to coupling with neighbours, while the fourth term is the on-site change due to the presence of twist.\n",
    "\n",
    "First let's define a function that handles the effects of twist"
   ]
  },
  {
   "cell_type": "markdown",
   "metadata": {},
   "source": [
    "Turning to: Ma X et al. 2011 Angular-momentum coupled optical waves in chirally-coupled-core fibers Opt. Expr. 19\n",
    "\n",
    "They find: $ \\beta_{hel} \\approx \\beta_{straight} \\sqrt{1+\\alpha^2 R^2}$ \n",
    "if $(\\alpha R)^2$ is small we can approximate: $\\beta_{hel} \\approx \\beta_{straight} + \\frac{\\beta_{straight}}{2}(\\alpha R)^2$\n"
   ]
  },
  {
   "cell_type": "code",
   "execution_count": 140,
   "metadata": {},
   "outputs": [],
   "source": [
    "def twisted_beta(beta_straight, twist_rate, radial_dist):\n",
    "    beta_hel = beta_straight*np.sqrt(1+ twist_rate**2 * radial_dist**2)\n",
    "    return beta_hel\n",
    "\n",
    "vec_twist_beta = np.vectorize(twisted_beta)"
   ]
  },
  {
   "cell_type": "code",
   "execution_count": 141,
   "metadata": {},
   "outputs": [
    {
     "name": "stdout",
     "output_type": "stream",
     "text": [
      "200\n"
     ]
    }
   ],
   "source": [
    "def build_honeycomb(n,m):\n",
    "    a_1 = np.array([3*PITCH/2, np.sqrt(3)*PITCH/2])\n",
    "    a_2 = np.array([3*PITCH/2, -np.sqrt(3)*PITCH/2])\n",
    "\n",
    "    coord_list = []\n",
    "    for j in range(m):\n",
    "        for i in range(n): \n",
    "            coord_list.append(a_1*i + a_2*j)\n",
    "\n",
    "    coord_list_shifted = coord_list + np.array([-PITCH, 0])\n",
    "    coord_list = np.array(coord_list)\n",
    "    # print(coord_list_shifted)\n",
    "\n",
    "\n",
    "    full_coord_list = np.concatenate((coord_list, coord_list_shifted), axis=0)\n",
    "    centered_coord_list = full_coord_list - (n*a_1 + m*a_2)/2 + np.array([2*PITCH,0])\n",
    "\n",
    "    return centered_coord_list\n",
    "b_10_list = build_honeycomb(10,10)\n",
    "# plt.scatter(b_10_list[:,0], b_10_list[:,1]);   \n",
    "# plt.scatter(b_10_list[:,0]-11.5*PITCH, b_10_list[:,1]-np.sqrt(3)*PITCH/2); \n",
    "\n",
    "plt.axhline(0, color='black')\n",
    "plt.axvline(0, color='black')\n",
    "\n",
    "\n",
    "\n",
    "plt.scatter(b_10_list[:,0], b_10_list[:,1]); \n",
    "# plt.scatter(b_10_list[:10,0], b_10_list[:10,1]);\n",
    "# plt.scatter(b_10_list[10,0], b_10_list[10,1]);\n",
    "# plt.scatter(b_10_list[20,0], b_10_list[20,1]);\n",
    "print(len(b_10_list))"
   ]
  },
  {
   "cell_type": "markdown",
   "metadata": {},
   "source": [
    "If we want a deformed lattice we can delete cores using the code below "
   ]
  },
  {
   "cell_type": "code",
   "execution_count": 142,
   "metadata": {},
   "outputs": [],
   "source": [
    "def onclick(event):\n",
    "    pos.append([event.xdata,event.ydata])\n",
    "\n",
    "core_locs = []\n",
    "pos = []\n",
    "\n",
    "fig1 = plt.figure(figsize=(9,6))\n",
    "ax1 = fig1.add_subplot(111)\n",
    "\n",
    "ax1.scatter(b_10_list[:,0], b_10_list[:,1], cmap='Reds')\n",
    "ax1.xaxis.set_major_locator(MultipleLocator(10))\n",
    "ax1.xaxis.set_minor_locator(MultipleLocator(5))\n",
    "ax1.yaxis.set_major_locator(MultipleLocator(10))\n",
    "ax1.yaxis.set_minor_locator(MultipleLocator(5))\n",
    "#ax1.xaxis.set_major_formatter({x:.0f})\n",
    "plt.grid(which='both')\n",
    "\n",
    "fig1.canvas.mpl_connect('button_press_event', onclick)\n",
    "plt.show()\n"
   ]
  },
  {
   "cell_type": "code",
   "execution_count": 143,
   "metadata": {},
   "outputs": [],
   "source": [
    "\n",
    "pos = np.array(pos)\n",
    "points_to_keep = np.where(cdist(b_10_list, pos, 'euclidean')>2, False, True )\n",
    "index_to_keep = np.invert(np.any(points_to_keep, axis=1))\n",
    "deformed_lattice= b_10_list[index_to_keep]\n",
    "# [print(type(i)) for i in pos]\n",
    "plt.scatter(deformed_lattice[:,0], deformed_lattice[:,1]);"
   ]
  },
  {
   "cell_type": "markdown",
   "metadata": {},
   "source": [
    "Now we want to read in a geometry from COMSOL and find the nearest neighbours"
   ]
  },
  {
   "cell_type": "code",
   "execution_count": 119,
   "metadata": {},
   "outputs": [],
   "source": [
    "\n",
    "# coord_data = pd.read_csv('../COMSOL/Data/Honeycomb/honeycomb coord locs small.csv', header=4,float_precision='round_trip')\n",
    "# # coord_data = pd.read_csv('../COMSOL/Data/Honeycomb/coupled_core_locs.csv', header=4,float_precision='round_trip')\n",
    "\n",
    "# #display(coord_data.iloc[:,1:])\n",
    "# x_coords = coord_data.iloc[:,1:128]\n",
    "# y_coords = coord_data.iloc[:,128:]\n",
    "# x_coord_np = x_coords.transpose()[0].to_numpy()\n",
    "# y_coord_np = y_coords.transpose()[0].to_numpy()\n",
    "\n",
    "# combined_list  = np.transpose(np.array((x_coord_np,y_coord_np)))\n",
    "\n",
    "\n",
    "def build_onsite(beta_straight, twist, coord_pairs):\n",
    "    distance_to_each_core = np.array([round(np.sqrt(i**2 + j**2),4) for i,j in coord_pairs])*1e-6\n",
    "\n",
    "    twist_for_each_core = vec_twist_beta(beta_straight, twist, distance_to_each_core) - beta_straight\n",
    "    onsite_matrix = np.diag(twist_for_each_core)\n",
    "\n",
    "    return onsite_matrix"
   ]
  },
  {
   "cell_type": "markdown",
   "metadata": {},
   "source": [
    "Next we build up the vector potential $\\mathbf{A}(\\mathbf{r})$"
   ]
  },
  {
   "cell_type": "code",
   "execution_count": 120,
   "metadata": {},
   "outputs": [],
   "source": [
    "def vec_potential(x,y, twist_rate, beta):\n",
    "    vec_A = twist_rate*beta*np.array([y,-x])\n",
    "    return vec_A\n"
   ]
  },
  {
   "cell_type": "markdown",
   "metadata": {},
   "source": [
    "Finally we stick all of these components into our coupling matrix C"
   ]
  },
  {
   "cell_type": "code",
   "execution_count": 121,
   "metadata": {},
   "outputs": [],
   "source": [
    "def find_eigvalues(pair_list, pitch, coupling_c, beta_straight, twist, with_onsite=True):\n",
    "    coupling_matrix = np.zeros((len(pair_list[:,0]),len(pair_list[:,0])),dtype=complex)\n",
    "    honeycomb_point_tree = spat.cKDTree(pair_list, leafsize=100)\n",
    "    nearest_neighbour_array = honeycomb_point_tree.query_pairs(pitch+0.001, output_type = 'ndarray')\n",
    "\n",
    "    for i in nearest_neighbour_array:\n",
    "        mid_point = (pair_list[i[0]] + pair_list[i[1]])/2\n",
    "        a_dist = (pair_list[i[0]] - pair_list[i[1]])*1.0e-6\n",
    "        # print(mid_point)\n",
    "        vec_term = vec_potential(mid_point[0]*1.0e-6, mid_point[1]*1.0e-6, twist, beta_straight)\n",
    "\n",
    "        coupling_matrix[i[0],i[1]] = coupling_c* np.exp(1.0j * np.dot(vec_term, a_dist))\n",
    "\n",
    "        a_dist_rev = (pair_list[i[1]] - pair_list[i[0]])*1.0e-6\n",
    "        coupling_matrix[i[1],i[0]] = coupling_c* np.exp(1.0j * np.dot(vec_term, a_dist_rev))\n",
    "    if with_onsite is True:\n",
    "        onsite_matrix = build_onsite(beta_straight, twist, pair_list)\n",
    "        full_C = coupling_matrix + onsite_matrix\n",
    "    else: \n",
    "        full_C = coupling_matrix\n",
    "    print(np.allclose(full_C, np.transpose(np.conjugate(full_C))))\n",
    "    beta_super, eigvecs = np.linalg.eigh(full_C)\n",
    "\n",
    "    return beta_super,eigvecs\n"
   ]
  },
  {
   "cell_type": "code",
   "execution_count": 122,
   "metadata": {},
   "outputs": [],
   "source": [
    "# Plotting betas\n",
    "def plot_betas(beta_vals, coupling):\n",
    "    fig1  = plt.figure(figsize=(12,12))   \n",
    "    ax1 = fig1.add_subplot(111)\n",
    "    ax1.scatter(np.arange(len(beta_vals)), beta_vals/coupling, label='1');\n",
    "    # ax1.set_xlim(60,100)\n",
    "    plt.legend();\n"
   ]
  },
  {
   "cell_type": "code",
   "execution_count": 123,
   "metadata": {},
   "outputs": [],
   "source": [
    "# For nice plotting of eigenvectors \n",
    "def plot_coloured_chain(intensities, circ_size, circ_locations, label):\n",
    "    \"\"\"\n",
    "    \n",
    "    \"\"\"\n",
    "    fig_chain = plt.figure(figsize=(15,10))\n",
    "    ax_chain = fig_chain.add_subplot(111)\n",
    "    intensities = intensities/np.sum(intensities)\n",
    "    circ_list = []\n",
    "    norm = colors.Normalize(vmin=min(np.real(intensities)), vmax=max(np.real(intensities)))\n",
    "    cmap = plt.cm.get_cmap('Reds')\n",
    "    cmap(norm(np.real(intensities)))\n",
    "\n",
    "    for j in range(len(intensities)):\n",
    "        #print(intensities[j])\n",
    "        circ_list.append(patches.Circle((circ_locations[j][0], circ_locations[j][1]), radius=circ_size//2,\n",
    "                                            color=cmap(norm(np.real(intensities[j]))),ec='black')) \n",
    "\n",
    "#         ax_chain.annotate(str(j), (circ_locations[j][0], circ_locations[j][1]), color='black',\n",
    "#                           fontsize=10, ha='center', va='center')\n",
    "   \n",
    "    plt.axis('off')\n",
    "    # Plot all circles\n",
    "    for _circ in circ_list:\n",
    "        ax_chain.add_patch(_circ)\n",
    "    plt.title('Mode no. {:d}'.format(label), loc='left')\n",
    "    plt.axis('scaled')\n",
    "    plt.show()     \n",
    "    return "
   ]
  },
  {
   "cell_type": "code",
   "execution_count": 92,
   "metadata": {},
   "outputs": [
    {
     "name": "stdout",
     "output_type": "stream",
     "text": [
      "True\n",
      "True\n",
      "True\n"
     ]
    }
   ],
   "source": [
    "# beta_100 = beta_super\n",
    "#print(eigvecs)\n",
    "# print(beta_super)\n",
    "beta_vals_1, beta_vecs_1 = find_eigvalues(b_10_list, PITCH, coupling, beta_0, 10)\n",
    "beta_vals_10, beta_vecs_10 = find_eigvalues(b_10_list, 4.5, 2*coupling, beta_0, 10)\n",
    "beta_vals_20, beta_vecs_20 = find_eigvalues(b_10_list, 4.5, 3*coupling, beta_0, 10)\n",
    "# beta_vals_30 = find_eigvalues(b_10_list, 3.0, coupling, beta_0, 10)\n",
    "# beta_vals_40 = find_eigvalues(b_10_list, 2.5, coupling, beta_0, 10)"
   ]
  },
  {
   "cell_type": "markdown",
   "metadata": {},
   "source": [
    "We now have $i \\frac{\\partial \\mathbf{a}}{\\partial z} = C \\mathbf{a}$ \n",
    "where $\\mathbf{a}$ is a vector of complex amplitudes describing the contribution of each single core mode to each supermode"
   ]
  },
  {
   "cell_type": "markdown",
   "metadata": {},
   "source": [
    "$\\beta \\mathbf{a} = C \\mathbf{a}$"
   ]
  },
  {
   "cell_type": "code",
   "execution_count": 93,
   "metadata": {},
   "outputs": [],
   "source": [
    "plot_betas(beta_vals_20, coupling*3)\n"
   ]
  },
  {
   "cell_type": "markdown",
   "metadata": {},
   "source": [
    "Now let's look at some of the eigenmodes "
   ]
  },
  {
   "cell_type": "markdown",
   "metadata": {},
   "source": [
    "No on-site term with low twist"
   ]
  },
  {
   "cell_type": "code",
   "execution_count": null,
   "metadata": {},
   "outputs": [],
   "source": [
    "vec_intensities = np.conjugate(beta_vecs_20)*beta_vecs_20\n",
    "for i in range(75,85):\n",
    "    plot_coloured_chain(vec_intensities[:,i], 3, b_10_list,i)\n",
    "\n",
    "\n"
   ]
  },
  {
   "cell_type": "markdown",
   "metadata": {},
   "source": [
    "Upping twist \n",
    "Edges present at 100, edges have moved but still present at 1000 as landau levels split further, edges still present at 10000 twist with landau levels almost washed out"
   ]
  },
  {
   "cell_type": "code",
   "execution_count": 153,
   "metadata": {},
   "outputs": [
    {
     "name": "stdout",
     "output_type": "stream",
     "text": [
      "True\n"
     ]
    }
   ],
   "source": [
    "beta_vals_100, beta_vecs_100 = find_eigvalues(deformed_lattice, PITCH, coupling, beta_0, 70, with_onsite=False)\n",
    "plot_betas(beta_vals_100, 3*coupling)"
   ]
  },
  {
   "cell_type": "code",
   "execution_count": 154,
   "metadata": {},
   "outputs": [
    {
     "name": "stderr",
     "output_type": "stream",
     "text": [
      "<ipython-input-123-2292a5afa7ee>:6: RuntimeWarning: More than 20 figures have been opened. Figures created through the pyplot interface (`matplotlib.pyplot.figure`) are retained until explicitly closed and may consume too much memory. (To control this warning, see the rcParam `figure.max_open_warning`).\n",
      "  fig_chain = plt.figure(figsize=(15,10))\n"
     ]
    }
   ],
   "source": [
    "\n",
    "vec_intensities_100 = np.conjugate(beta_vecs_100)*beta_vecs_100\n",
    "\n",
    "for i in range(80,110):\n",
    "    plot_coloured_chain(vec_intensities_100[:,i], 3, deformed_lattice,i);"
   ]
  },
  {
   "cell_type": "markdown",
   "metadata": {},
   "source": [
    "Now we try to turn the on-site term back on and see if any edges remain.\n",
    "\n",
    "All localised at high twist (10,000,000,000). 1,000,000 shows nothing. 10,000 still too localised. 1000 still localised. 100 shows some interesting modes"
   ]
  },
  {
   "cell_type": "code",
   "execution_count": 155,
   "metadata": {},
   "outputs": [
    {
     "name": "stdout",
     "output_type": "stream",
     "text": [
      "True\n"
     ]
    }
   ],
   "source": [
    "beta_vals_onsite, beta_vecs_onsite = find_eigvalues(deformed_lattice, 4.5, coupling, beta_0, 70)\n",
    "plot_betas(beta_vals_onsite, 3*coupling)"
   ]
  },
  {
   "cell_type": "code",
   "execution_count": 156,
   "metadata": {},
   "outputs": [
    {
     "name": "stderr",
     "output_type": "stream",
     "text": [
      "<ipython-input-123-2292a5afa7ee>:6: RuntimeWarning: More than 20 figures have been opened. Figures created through the pyplot interface (`matplotlib.pyplot.figure`) are retained until explicitly closed and may consume too much memory. (To control this warning, see the rcParam `figure.max_open_warning`).\n",
      "  fig_chain = plt.figure(figsize=(15,10))\n"
     ]
    }
   ],
   "source": [
    "\n",
    "vec_intensities_onsite = np.conjugate(beta_vecs_onsite)*beta_vecs_onsite\n",
    "edges = np.arange(91,104)#[13,14,15,78,79,80,81,82]\n",
    "for i in edges:#range(0,20):\n",
    "    plot_coloured_chain(vec_intensities_onsite[:,i], 3, deformed_lattice,i);"
   ]
  },
  {
   "cell_type": "code",
   "execution_count": null,
   "metadata": {},
   "outputs": [],
   "source": [
    "beta_vals_onsite_low, beta_vecs_onsite_low = find_eigvalues(b_10_list, 4.5, 3*coupling, beta_0, 50)\n",
    "plot_betas(beta_vals_onsite_low, 3*coupling)"
   ]
  },
  {
   "cell_type": "code",
   "execution_count": null,
   "metadata": {},
   "outputs": [],
   "source": [
    "\n",
    "vec_intensities_onsite_low = np.conjugate(beta_vecs_onsite_low)*beta_vecs_onsite_low\n",
    "\n",
    "for i in range(3000,3050):\n",
    "    plot_coloured_chain(vec_intensities_onsite_low[:,i], 3, b_10_list,i);"
   ]
  },
  {
   "cell_type": "code",
   "execution_count": 162,
   "metadata": {},
   "outputs": [],
   "source": [
    "vec_pot_list = []\n",
    "\n",
    "for n in range(100):\n",
    "    mid_point = (b_10_list[0,:] + b_10_list[n,:])/2\n",
    "    a_dist = (b_10_list[0,:] - b_10_list[n,:])*1.0e-6\n",
    "    term = vec_potential(mid_point[0]*1.0e-6, mid_point[1]*1.0e-6, 1000, beta_0)\n",
    "    vec_pot_list.append(np.exp(1.0j *np.dot(term, a_dist)))"
   ]
  },
  {
   "cell_type": "code",
   "execution_count": 163,
   "metadata": {},
   "outputs": [
    {
     "name": "stderr",
     "output_type": "stream",
     "text": [
      "c:\\Users\\nr421\\Anaconda3\\lib\\site-packages\\numpy\\core\\_asarray.py:85: ComplexWarning: Casting complex values to real discards the imaginary part\n",
      "  return array(a, dtype, copy=False, order=order)\n"
     ]
    }
   ],
   "source": [
    "plt.plot(np.arange(len(vec_pot_list)), vec_pot_list);\n",
    "# plt.axhline(1.0, color='black');\n",
    "# plt.axvline(272,color='red');"
   ]
  },
  {
   "cell_type": "code",
   "execution_count": null,
   "metadata": {},
   "outputs": [],
   "source": [
    "print(vec_pot_list[265:275])"
   ]
  },
  {
   "cell_type": "code",
   "execution_count": null,
   "metadata": {},
   "outputs": [],
   "source": [
    "vec_pot_list_2 = []\n",
    "\n",
    "for m in range(59):\n",
    "    mid_point = (b_10_list[0,:] + b_10_list[(m+1)*60,:])/2\n",
    "    a_dist = (b_10_list[0,:] - b_10_list[(m+1)*60,:])*1.0e-6\n",
    "    term = vec_potential(mid_point[0]*1.0e-6, mid_point[1]*1.0e-6, 20, beta_0)\n",
    "    vec_pot_list_2.append(np.exp(1.0j *np.dot(term, a_dist)))"
   ]
  },
  {
   "cell_type": "code",
   "execution_count": null,
   "metadata": {},
   "outputs": [],
   "source": [
    "plt.plot(np.arange(len(vec_pot_list_2)), vec_pot_list_2);\n",
    "# plt.axhline(1.0, color='black');\n",
    "# plt.axvline(272,color='red');"
   ]
  },
  {
   "cell_type": "code",
   "execution_count": null,
   "metadata": {},
   "outputs": [],
   "source": []
  }
 ],
 "metadata": {
  "interpreter": {
   "hash": "d0da897c7d7e05c7283e0a5b6e33f76c7884867bc804433a7972abce5117f3a1"
  },
  "kernelspec": {
   "display_name": "Python 3.8.3 ('base')",
   "language": "python",
   "name": "python3"
  },
  "language_info": {
   "codemirror_mode": {
    "name": "ipython",
    "version": 3
   },
   "file_extension": ".py",
   "mimetype": "text/x-python",
   "name": "python",
   "nbconvert_exporter": "python",
   "pygments_lexer": "ipython3",
   "version": "3.8.3"
  },
  "orig_nbformat": 4
 },
 "nbformat": 4,
 "nbformat_minor": 2
}
