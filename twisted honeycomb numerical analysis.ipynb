{
 "cells": [
  {
   "cell_type": "code",
   "execution_count": 166,
   "metadata": {},
   "outputs": [],
   "source": [
    "import numpy as np\n",
    "import matplotlib.pyplot as plt\n",
    "import pandas as pd\n",
    "import scipy.linalg as linalg\n",
    "import scipy.spatial as spat\n",
    "import matplotlib.patches as patches\n",
    "import matplotlib.colors as colors"
   ]
  },
  {
   "cell_type": "markdown",
   "metadata": {},
   "source": [
    "Import the usual suspects"
   ]
  },
  {
   "cell_type": "code",
   "execution_count": 177,
   "metadata": {},
   "outputs": [],
   "source": [
    "PITCH = 4.5\n",
    "alpha = 10\n",
    "beta_0 = 1.3182817e+7\n",
    "coupling = 191"
   ]
  },
  {
   "cell_type": "markdown",
   "metadata": {},
   "source": [
    "## Building and solving a coupling matrix"
   ]
  },
  {
   "cell_type": "markdown",
   "metadata": {},
   "source": [
    "We want to solve something of the form \n",
    "\n",
    "$i \\frac{\\partial \\phi_n}{\\partial z} = C_{m, m+a_1} e^{iA((m + a_1) /2)\\cdot a_1} \\phi_{m+a_1} +  C_{m, m+a_2} e^{iA((m + a_2) /2)\\cdot a_2} \\phi_{m+a_2}+  C_{m, m+a_3} e^{iA((m + a_3) /2)\\cdot a_3} \\phi_{m+a_3} + D_n \\phi_n $\n",
    "\n",
    "The first three terms are the effects due to coupling with neighbours, while the fourth term is the on-site change due to the presence of twist.\n",
    "\n",
    "First let's define a function that handles the effects of twist"
   ]
  },
  {
   "cell_type": "markdown",
   "metadata": {},
   "source": [
    "Turning to: Ma X et al. 2011 Angular-momentum coupled optical waves in chirally-coupled-core fibers Opt. Expr. 19\n",
    "\n",
    "They find: $ \\beta_{hel} \\approx \\beta_{straight} \\sqrt{1+\\alpha^2 R^2}$ \n",
    "if $(\\alpha R)^2$ is small we can approximate: $\\beta_{hel} \\approx \\beta_{straight} + \\frac{\\beta_{straight}}{2}(\\alpha R)^2$\n"
   ]
  },
  {
   "cell_type": "code",
   "execution_count": 168,
   "metadata": {},
   "outputs": [],
   "source": [
    "def twisted_beta(beta_straight, twist_rate, radial_dist):\n",
    "    beta_hel = beta_straight*np.sqrt(1+ twist_rate**2 * radial_dist**2)\n",
    "    return beta_hel\n",
    "\n",
    "vec_twist_beta = np.vectorize(twisted_beta)"
   ]
  },
  {
   "cell_type": "code",
   "execution_count": 169,
   "metadata": {},
   "outputs": [
    {
     "data": {
      "image/png": "[encoded data removed]",
      "text/plain": [
       "<Figure size 432x288 with 1 Axes>"
      ]
     },
     "metadata": {
      "needs_background": "light"
     },
     "output_type": "display_data"
    }
   ],
   "source": [
    "def build_honeycomb(n,m):\n",
    "    a_1 = np.array([3*PITCH/2, np.sqrt(3)*PITCH/2])\n",
    "    a_2 = np.array([3*PITCH/2, -np.sqrt(3)*PITCH/2])\n",
    "\n",
    "    coord_list = []\n",
    "    for j in range(m):\n",
    "        for i in range(n): \n",
    "            coord_list.append(a_1*i + a_2*j)\n",
    "\n",
    "    coord_list_shifted = coord_list + np.array([-PITCH, 0])\n",
    "    coord_list = np.array(coord_list)\n",
    "    # print(coord_list_shifted)\n",
    "\n",
    "\n",
    "    full_coord_list = np.concatenate((coord_list, coord_list_shifted), axis=0)\n",
    "\n",
    "    return full_coord_list\n",
    "b_10_list = build_honeycomb(15,15)\n",
    "plt.scatter(b_10_list[:,0], b_10_list[:,1]);    "
   ]
  },
  {
   "cell_type": "code",
   "execution_count": 170,
   "metadata": {},
   "outputs": [
    {
     "name": "stdout",
     "output_type": "stream",
     "text": [
      "[  0.    4.5   9.   13.5  18.   22.5  27.   31.5  36.   40.5  45.   49.5\n",
      "  54.   58.5  63.    4.5   9.   13.5  18.   22.5  27.   31.5  36.   40.5\n",
      "  45.   49.5  54.   58.5  63.   67.5   9.   13.5  18.   22.5  27.   31.5\n",
      "  36.   40.5  45.   49.5  54.   58.5  63.   67.5  72.   13.5  18.   22.5\n",
      "  27.   31.5  36.   40.5  45.   49.5  54.   58.5  63.   67.5  72.   76.5\n",
      "  18.   22.5  27.   31.5  36.   40.5  45.   49.5  54.   58.5  63.   67.5\n",
      "  72.   76.5  81.   22.5  27.   31.5  36.   40.5  45.   49.5  54.   58.5\n",
      "  63.   67.5  72.   76.5  81.   85.5  27.   31.5  36.   40.5  45.   49.5\n",
      "  54.   58.5  63.   67.5  72.   76.5  81.   85.5  90.   31.5  36.   40.5\n",
      "  45.   49.5  54.   58.5  63.   67.5  72.   76.5  81.   85.5  90.   94.5\n",
      "  36.   40.5  45.   49.5  54.   58.5  63.   67.5  72.   76.5  81.   85.5\n",
      "  90.   94.5  99.   40.5  45.   49.5  54.   58.5  63.   67.5  72.   76.5\n",
      "  81.   85.5  90.   94.5  99.  103.5  45.   49.5  54.   58.5  63.   67.5\n",
      "  72.   76.5  81.   85.5  90.   94.5  99.  103.5 108.   49.5  54.   58.5\n",
      "  63.   67.5  72.   76.5  81.   85.5  90.   94.5  99.  103.5 108.  112.5\n",
      "  54.   58.5  63.   67.5  72.   76.5  81.   85.5  90.   94.5  99.  103.5\n",
      " 108.  112.5 117.   58.5  63.   67.5  72.   76.5  81.   85.5  90.   94.5\n",
      "  99.  103.5 108.  112.5 117.  121.5  63.   67.5  72.   76.5  81.   85.5\n",
      "  90.   94.5  99.  103.5 108.  112.5 117.  121.5 126.   -3.    1.5   6.\n",
      "  10.5  15.   19.5  24.   28.5  33.   37.5  42.   46.5  51.   55.5  60.\n",
      "   1.5   6.   10.5  15.   19.5  24.   28.5  33.   37.5  42.   46.5  51.\n",
      "  55.5  60.   64.5   6.   10.5  15.   19.5  24.   28.5  33.   37.5  42.\n",
      "  46.5  51.   55.5  60.   64.5  69.   10.5  15.   19.5  24.   28.5  33.\n",
      "  37.5  42.   46.5  51.   55.5  60.   64.5  69.   73.5  15.   19.5  24.\n",
      "  28.5  33.   37.5  42.   46.5  51.   55.5  60.   64.5  69.   73.5  78.\n",
      "  19.5  24.   28.5  33.   37.5  42.   46.5  51.   55.5  60.   64.5  69.\n",
      "  73.5  78.   82.5  24.   28.5  33.   37.5  42.   46.5  51.   55.5  60.\n",
      "  64.5  69.   73.5  78.   82.5  87.   28.5  33.   37.5  42.   46.5  51.\n",
      "  55.5  60.   64.5  69.   73.5  78.   82.5  87.   91.5  33.   37.5  42.\n",
      "  46.5  51.   55.5  60.   64.5  69.   73.5  78.   82.5  87.   91.5  96.\n",
      "  37.5  42.   46.5  51.   55.5  60.   64.5  69.   73.5  78.   82.5  87.\n",
      "  91.5  96.  100.5  42.   46.5  51.   55.5  60.   64.5  69.   73.5  78.\n",
      "  82.5  87.   91.5  96.  100.5 105.   46.5  51.   55.5  60.   64.5  69.\n",
      "  73.5  78.   82.5  87.   91.5  96.  100.5 105.  109.5  51.   55.5  60.\n",
      "  64.5  69.   73.5  78.   82.5  87.   91.5  96.  100.5 105.  109.5 114.\n",
      "  55.5  60.   64.5  69.   73.5  78.   82.5  87.   91.5  96.  100.5 105.\n",
      " 109.5 114.  118.5  60.   64.5  69.   73.5  78.   82.5  87.   91.5  96.\n",
      " 100.5 105.  109.5 114.  118.5 123. ]\n"
     ]
    }
   ],
   "source": [
    "print(b_10_list[:,0])"
   ]
  },
  {
   "cell_type": "markdown",
   "metadata": {},
   "source": [
    "Now we want to read in a geometry from COMSOL and find the nearest neighbours"
   ]
  },
  {
   "cell_type": "code",
   "execution_count": 171,
   "metadata": {},
   "outputs": [
    {
     "name": "stdout",
     "output_type": "stream",
     "text": [
      "(1, 257)\n"
     ]
    }
   ],
   "source": [
    "print(np.shape(coord_data))"
   ]
  },
  {
   "cell_type": "code",
   "execution_count": 172,
   "metadata": {},
   "outputs": [],
   "source": [
    "\n",
    "coord_data = pd.read_csv('../COMSOL/Data/Honeycomb/honeycomb coord locs small.csv', header=4,float_precision='round_trip')\n",
    "# coord_data = pd.read_csv('../COMSOL/Data/Honeycomb/coupled_core_locs.csv', header=4,float_precision='round_trip')\n",
    "\n",
    "#display(coord_data.iloc[:,1:])\n",
    "x_coords = coord_data.iloc[:,1:128]\n",
    "y_coords = coord_data.iloc[:,128:]\n",
    "x_coord_np = x_coords.transpose()[0].to_numpy()\n",
    "y_coord_np = y_coords.transpose()[0].to_numpy()\n",
    "\n",
    "combined_list  = np.transpose(np.array((x_coord_np,y_coord_np)))\n",
    "\n",
    "\n",
    "def build_onsite(beta_straight, twist, coord_pairs):\n",
    "    distance_to_each_core = np.array([round(np.sqrt(i**2 + j**2),4) for i,j in coord_pairs])*1e-6\n",
    "\n",
    "    twist_for_each_core = vec_twist_beta(beta_straight, twist, distance_to_each_core) - beta_straight\n",
    "    onsite_matrix = np.diag(twist_for_each_core)\n",
    "\n",
    "    return onsite_matrix"
   ]
  },
  {
   "cell_type": "markdown",
   "metadata": {},
   "source": [
    "Next we build up the vector potential $\\mathbf{A}(\\mathbf{r})$"
   ]
  },
  {
   "cell_type": "code",
   "execution_count": 173,
   "metadata": {},
   "outputs": [],
   "source": [
    "def vec_potential(x,y, twist_rate, beta):\n",
    "    vec_A = twist_rate*beta*np.array([y,-x])\n",
    "    return vec_A\n"
   ]
  },
  {
   "cell_type": "markdown",
   "metadata": {},
   "source": [
    "Finally we stick all of these components into our coupling matrix C"
   ]
  },
  {
   "cell_type": "code",
   "execution_count": 174,
   "metadata": {},
   "outputs": [],
   "source": [
    "def find_eigvalues(pair_list, pitch, coupling_c, beta_straight, twist):\n",
    "    coupling_matrix = np.zeros((len(pair_list[:,0]),len(pair_list[:,0])),dtype=complex)\n",
    "    honeycomb_point_tree = spat.cKDTree(pair_list, leafsize=100)\n",
    "    nearest_neighbour_array = honeycomb_point_tree.query_pairs(pitch+0.001, output_type = 'ndarray')\n",
    "\n",
    "    for i in nearest_neighbour_array:\n",
    "        mid_point = (pair_list[i[0]] + pair_list[i[1]])/2\n",
    "        a_dist = (pair_list[i[0]] - pair_list[i[1]])*1.0e-6\n",
    "        # print(mid_point)\n",
    "        vec_term = vec_potential(mid_point[0]*1.0e-6, mid_point[1]*1.0e-6, twist, beta_straight)\n",
    "\n",
    "        coupling_matrix[i[0],i[1]] = coupling_c* np.exp(1.0j * np.dot(vec_term, a_dist))\n",
    "\n",
    "        a_dist_rev = (pair_list[i[1]] - pair_list[i[0]])*1.0e-6\n",
    "        coupling_matrix[i[1],i[0]] = coupling_c* np.exp(1.0j * np.dot(vec_term, a_dist_rev))\n",
    "\n",
    "    onsite_matrix = build_onsite(beta_straight, twist, pair_list)\n",
    "    full_C = coupling_matrix + onsite_matrix\n",
    "    print(np.allclose(full_C, np.transpose(np.conjugate(full_C))))\n",
    "    beta_super, eigvecs = np.linalg.eigh(full_C)\n",
    "\n",
    "    return beta_super\n"
   ]
  },
  {
   "cell_type": "code",
   "execution_count": 191,
   "metadata": {},
   "outputs": [
    {
     "name": "stdout",
     "output_type": "stream",
     "text": [
      "True\n",
      "True\n",
      "True\n",
      "True\n",
      "True\n"
     ]
    }
   ],
   "source": [
    "# beta_100 = beta_super\n",
    "#print(eigvecs)\n",
    "# print(beta_super)\n",
    "beta_vals_1 = find_eigvalues(b_10_list, PITCH, coupling, beta_0, 10)\n",
    "beta_vals_10 = find_eigvalues(b_10_list, 4.5, 2*coupling, beta_0, 10)\n",
    "beta_vals_20 = find_eigvalues(b_10_list, 4.5, 3*coupling, beta_0, 10)\n",
    "beta_vals_30 = find_eigvalues(b_10_list, 3.0, coupling, beta_0, 10)\n",
    "beta_vals_40 = find_eigvalues(b_10_list, 2.5, coupling, beta_0, 10)"
   ]
  },
  {
   "cell_type": "markdown",
   "metadata": {},
   "source": [
    "We now have $i \\frac{\\partial \\mathbf{a}}{\\partial z} = C \\mathbf{a}$ \n",
    "where $\\mathbf{a}$ is a vector of complex amplitudes describing the contribution of each single core mode to each supermode"
   ]
  },
  {
   "cell_type": "markdown",
   "metadata": {},
   "source": [
    "$\\beta \\mathbf{a} = C \\mathbf{a}$"
   ]
  },
  {
   "cell_type": "markdown",
   "metadata": {},
   "source": []
  },
  {
   "cell_type": "code",
   "execution_count": 194,
   "metadata": {},
   "outputs": [
    {
     "data": {
      "image/png": "[encoded data removed]",
      "text/plain": [
       "<Figure size 864x864 with 1 Axes>"
      ]
     },
     "metadata": {
      "needs_background": "light"
     },
     "output_type": "display_data"
    }
   ],
   "source": [
    "fig1  = plt.figure(figsize=(12,12))   \n",
    "ax1 = fig1.add_subplot(111)\n",
    "# ax1.scatter(np.arange(len(beta_super)), beta_10);\n",
    "# ax1.scatter(np.arange(len(beta_super)), beta_old);\n",
    "# ax1.scatter(np.arange(len(beta_super)), beta_100);\n",
    "ax1.scatter(np.arange(len(beta_vals_1)), beta_vals_1/coupling, label='1');\n",
    "ax1.scatter(np.arange(len(beta_vals_10)), beta_vals_10/(2*coupling), label='10');\n",
    "ax1.scatter(np.arange(len(beta_vals_20)), beta_vals_20/(3*coupling), label='20');\n",
    "# ax1.scatter(np.arange(len(beta_vals_30)), beta_vals_30/coupling, label='30');\n",
    "# ax1.scatter(np.arange(len(beta_vals_40)), beta_vals_40/coupling, label='40');\n",
    "\n",
    "plt.legend();\n"
   ]
  },
  {
   "cell_type": "code",
   "execution_count": null,
   "metadata": {},
   "outputs": [],
   "source": [
    "\n"
   ]
  },
  {
   "cell_type": "code",
   "execution_count": null,
   "metadata": {},
   "outputs": [],
   "source": []
  },
  {
   "cell_type": "code",
   "execution_count": null,
   "metadata": {},
   "outputs": [],
   "source": []
  }
 ],
 "metadata": {
  "interpreter": {
   "hash": "6fb52588c09c920220fae45d02f8a058c937e0ea8f0d37904520aff4618144bf"
  },
  "kernelspec": {
   "display_name": "Python 3.8.3 ('base')",
   "language": "python",
   "name": "python3"
  },
  "language_info": {
   "codemirror_mode": {
    "name": "ipython",
    "version": 3
   },
   "file_extension": ".py",
   "mimetype": "text/x-python",
   "name": "python",
   "nbconvert_exporter": "python",
   "pygments_lexer": "ipython3",
   "version": "3.8.3"
  },
  "orig_nbformat": 4
 },
 "nbformat": 4,
 "nbformat_minor": 2
}
